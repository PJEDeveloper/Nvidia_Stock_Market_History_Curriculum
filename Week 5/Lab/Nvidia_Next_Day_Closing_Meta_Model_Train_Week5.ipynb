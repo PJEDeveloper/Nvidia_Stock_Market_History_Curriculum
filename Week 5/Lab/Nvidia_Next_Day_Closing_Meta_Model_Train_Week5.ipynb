{
  "nbformat": 4,
  "nbformat_minor": 0,
  "metadata": {
    "colab": {
      "provenance": []
    },
    "kernelspec": {
      "name": "python3",
      "display_name": "Python 3"
    },
    "language_info": {
      "name": "python"
    }
  },
  "cells": [
    {
      "cell_type": "markdown",
      "source": [
        "Learning Objectives  \n",
        "<font color=\"#12A80D\"> <b>By the end of this notebook, you will be able to:</br>  \n",
        "1. Set up and configure the execution environment</br>• Install and upgrade required Python packages for machine learning, data processing, and visualization.</br>• Mount and interact with Google Drive for data and model storage.\n",
        "2. Load and manage ensemble model prediction inputs</br>• Locate and retrieve the latest prediction CSV files for multiple historical lookback periods (1D–365D).</br>• Organize and validate ensemble input data for further processing.\n",
        "3. Build and train a meta-model for stock price prediction</br>• Use Ridge Regression with L2 regularization to ensemble predictions from multiple base models.</br>• Fit the meta-model on historical prediction outputs to optimize performance.\n",
        "4. Evaluate predictive performance</br>• Apply regression metrics including R² score, MAE, and RMSE to assess accuracy.</br>• Compare meta-model performance against individual lookback models.\n",
        "5. Save and deploy trained models</br>•  Serialize and save trained models and scalers to persistent storage for future inference.</br>  \n",
        "6. Integrate results into an end-to-end workflow</br>• Maintain a structured process from raw predictions to meta-model training, evaluation, and export.</b>\n",
        "\n",
        "</font>\n"
      ],
      "metadata": {
        "id": "QUWB8NnpKLgX"
      }
    },
    {
      "cell_type": "markdown",
      "source": [
        "## Load Dependencies into the Colab Runtime Environment\n",
        "<font color=\"#12A80D\"> <b>• Installs and upgrades required Python packages in the Colab environment.</br>• Any installation errors can be ignored, as unused dependencies do not affect the execution of <code>Nvidia_Next_Day_Closing_Meta_Model_Train_Week5.ipynb</code>.</b> </font>"
      ],
      "metadata": {
        "id": "UuJLaG_aPXzf"
      }
    },
    {
      "cell_type": "code",
      "source": [
        "# =====================================\n",
        "# SETUP AND INSTALL DEPENDENCIES\n",
        "# =====================================\n",
        "!pip install --upgrade pip\n",
        "!pip install --quiet ipywidgets\n",
        "!pip install --upgrade numpy==2.0.2\n",
        "!pip install --quiet tensorflow==2.18.0\n",
        "!pip install --quiet pandas==2.2.2 matplotlib seaborn scikit-learn==1.6.1 tqdm\n",
        "!pip install --quiet transformers==4.53.1 tokenizers newsapi-python==0.2.7"
      ],
      "metadata": {
        "colab": {
          "base_uri": "https://localhost:8080/"
        },
        "id": "klVz1LdLzxgO",
        "outputId": "25005014-9f0b-4edd-87d4-3180a938c4e9"
      },
      "execution_count": null,
      "outputs": [
        {
          "output_type": "stream",
          "name": "stdout",
          "text": [
            "Requirement already satisfied: pip in /usr/local/lib/python3.11/dist-packages (25.2)\n",
            "Requirement already satisfied: numpy==2.0.2 in /usr/local/lib/python3.11/dist-packages (2.0.2)\n"
          ]
        }
      ]
    },
    {
      "cell_type": "markdown",
      "source": [
        "## Import libraries for data processing, modeling, and saving results\n",
        "<font color=\"#12A80D\"> <b>• Imports built-in modules for file system access (<code>os</code>, <code>glob</code>, <code>time</code>)</br>• Loads <code>pandas</code> and <code>numpy</code> for structured data handling and numerical operations</br>• Imports <code>Ridge</code> from scikit-learn for linear regression with L2 regularization</br>• Imports regression metrics (<code>r2_score</code>, <code>mean_absolute_error</code>, <code>mean_squared_error</code>) for performance evaluation</br>• Uses <code>joblib</code> for model serialization and saving to disk</b> </font>"
      ],
      "metadata": {
        "id": "KIUxD705Pvw7"
      }
    },
    {
      "cell_type": "code",
      "execution_count": null,
      "metadata": {
        "id": "NvF73-X4zmsf"
      },
      "outputs": [],
      "source": [
        "# File and path handling\n",
        "import os        # For file and directory operations\n",
        "import glob      # For file pattern matching and searching\n",
        "\n",
        "# Data manipulation and analysis\n",
        "import pandas as pd   # DataFrames for structured data\n",
        "import numpy as np    # Numerical computations\n",
        "\n",
        "# Machine learning models and metrics\n",
        "from sklearn.linear_model import Ridge  # Ridge regression model (L2 regularization)\n",
        "from sklearn.metrics import (           # Performance metrics\n",
        "    r2_score,               # Coefficient of determination\n",
        "    mean_absolute_error,    # Mean absolute error\n",
        "    mean_squared_error      # Mean squared error\n",
        ")\n",
        "\n",
        "# Model persistence\n",
        "import joblib   # Save and load trained models and scalers\n",
        "\n",
        "# Time measurement\n",
        "import time     # Track execution time for performance logging"
      ]
    },
    {
      "cell_type": "markdown",
      "source": [
        "## Mount Google Drive in the Colab notebook to access its contents\n",
        "<font color=\"#12A80D\"> <b>• Requires granting access to Google Drive</br>• Forces remounting even if already mounted</b> </font>"
      ],
      "metadata": {
        "id": "DQdnh4guP7i2"
      }
    },
    {
      "cell_type": "code",
      "source": [
        "# Mount Google Drive in Google Colab\n",
        "from google.colab import drive\n",
        "drive.mount('/content/drive', force_remount=True)  # force_remount=True ensures a fresh mount"
      ],
      "metadata": {
        "colab": {
          "base_uri": "https://localhost:8080/"
        },
        "id": "U4gBw8viRR6E",
        "outputId": "6245a4a9-f99d-4137-ce9e-c3b7cd3a7dde"
      },
      "execution_count": null,
      "outputs": [
        {
          "output_type": "stream",
          "name": "stdout",
          "text": [
            "Mounted at /content/drive\n"
          ]
        }
      ]
    },
    {
      "cell_type": "markdown",
      "source": [
        "## Define the target directory for saving the meta-model\n",
        "<font color=\"#12A80D\"> <b>• Specifies the Google Drive folder path where the trained meta-model and its related files will be saved</br>• Uses an absolute path to ensure outputs are stored in <code>/content/drive/My Drive/Nvidia_Stock_Market_History/Training/Meta_Model_Trained</code></br>• Requires Google Drive to be mounted before saving to this location</b> </font>"
      ],
      "metadata": {
        "id": "oR4ftvkVQLjE"
      }
    },
    {
      "cell_type": "code",
      "source": [
        "# Define the target directory for saving the trained meta-model\n",
        "META_MODEL_SAVE_FOLDER = \"/content/drive/My Drive/Nvidia_Stock_Market_History/Training/Meta_Model_Trained\""
      ],
      "metadata": {
        "id": "QhfLJys70Vr3"
      },
      "execution_count": null,
      "outputs": []
    },
    {
      "cell_type": "markdown",
      "source": [
        "## Discover the latest prediction CSVs in each lookback folder\n",
        "<font color=\"#12A80D\"> <b>• Sets the root path for the ensemble input folders in Google Drive</br>• Defines the list of lookback period subfolders to scan (e.g., <code>365D</code>, <code>270D</code>, <code>1D</code>)</br>• For each lookback period, checks if the folder exists and contains subfolders</br>• Sorts subfolders by timestamp in their names to identify the most recent run</br>• Finds the latest <code>*_predictions.csv</code> file within that subfolder</br>• Appends the path of each latest CSV to the <code>csv_files</code> list for later ensemble processing</b> </font>"
      ],
      "metadata": {
        "id": "ux7cLsyIQ8C6"
      }
    },
    {
      "cell_type": "code",
      "source": [
        "# ---------------------------\n",
        "# Discover latest prediction CSVs in each lookback folder\n",
        "# ---------------------------\n",
        "\n",
        "# Base folder containing lookback subfolders with prediction results\n",
        "ENSEMBLE_INPUTS_FOLDER = \"/content/drive/My Drive/Nvidia_Stock_Market_History/Training/ensemble_inputs\"\n",
        "\n",
        "# Ordered list of lookback periods to search\n",
        "LOOKBACK_FOLDERS = [\"365D\", \"270D\", \"180D\", \"90D\", \"60D\", \"30D\", \"14D\", \"1D\"]\n",
        "\n",
        "csv_files = []  # Will store the paths to the latest prediction CSV from each lookback folder\n",
        "\n",
        "for lookback in LOOKBACK_FOLDERS:\n",
        "    # Path to the current lookback's folder\n",
        "    lookback_path = os.path.join(ENSEMBLE_INPUTS_FOLDER, lookback)\n",
        "\n",
        "    # Ensure the folder exists\n",
        "    if not os.path.exists(lookback_path):\n",
        "        raise FileNotFoundError(f\"Lookback folder does not exist: {lookback_path}\")\n",
        "\n",
        "    # Get all subfolders inside the current lookback folder\n",
        "    subfolders = [d for d in glob.glob(os.path.join(lookback_path, \"*\")) if os.path.isdir(d)]\n",
        "    if not subfolders:\n",
        "        raise FileNotFoundError(f\"No subfolders found in {lookback_path}\")\n",
        "\n",
        "    # Sort subfolders by datetime in their name\n",
        "    # Assumes folder names end with a timestamp in format YYYY-MM-DD_HH-MM-SS\n",
        "    subfolders_sorted = sorted(\n",
        "        subfolders,\n",
        "        key=lambda x: time.strptime(\n",
        "            x.split(\"_\")[-2] + \"_\" + x.split(\"_\")[-1],\n",
        "            \"%Y-%m-%d_%H-%M-%S\"\n",
        "        ),\n",
        "        reverse=True\n",
        "    )\n",
        "\n",
        "    # Select the latest subfolder\n",
        "    latest_subfolder = subfolders_sorted[0]\n",
        "\n",
        "    # Find prediction CSV files in the latest subfolder\n",
        "    prediction_csvs = glob.glob(os.path.join(latest_subfolder, \"*_predictions.csv\"))\n",
        "    if not prediction_csvs:\n",
        "        raise FileNotFoundError(f\"No *_predictions.csv found in {latest_subfolder}\")\n",
        "\n",
        "    # Add the first prediction CSV found to the list\n",
        "    csv_files.append(prediction_csvs[0])"
      ],
      "metadata": {
        "id": "0ow7upZoIR3D"
      },
      "execution_count": null,
      "outputs": []
    },
    {
      "cell_type": "markdown",
      "source": [
        "## Print the discovered prediction file paths\n",
        "<font color=\"#12A80D\"> <b>• Outputs the list of most recent <code>*_predictions.csv</code> files found in each lookback folder</br>• Iterates over the <code>csv_files</code> list and prints each file path to verify correct discovery before proceeding with ensemble model processing</b> </font>"
      ],
      "metadata": {
        "id": "nml2v2v-RwgR"
      }
    },
    {
      "cell_type": "code",
      "source": [
        "# Print all discovered prediction file paths\n",
        "print(\"Found prediction files:\")\n",
        "for f in csv_files:\n",
        "    print(f)"
      ],
      "metadata": {
        "colab": {
          "base_uri": "https://localhost:8080/"
        },
        "id": "AWhO7lxXIbZw",
        "outputId": "60c8ed2d-f77b-43ef-a88e-9c9f5b0dc125"
      },
      "execution_count": null,
      "outputs": [
        {
          "output_type": "stream",
          "name": "stdout",
          "text": [
            "Found prediction files:\n",
            "/content/drive/My Drive/Nvidia_Stock_Market_History/Training/ensemble_inputs/365D/Nvidia_Stock_Training_365D_SA_2025-08-13_04-56-15/Nvidia_C1D64_BiG550_BiG350_BAtt_D1_Lookback365_predictions.csv\n",
            "/content/drive/My Drive/Nvidia_Stock_Market_History/Training/ensemble_inputs/270D/Nvidia_Stock_Training_270D_SA_2025-08-13_02-24-48/Nvidia_C1D64_BiG250_BiG250_BiG250_BAtt_D1_Lookback270_predictions.csv\n",
            "/content/drive/My Drive/Nvidia_Stock_Market_History/Training/ensemble_inputs/180D/Nvidia_Stock_Training_180D_SA_2025-08-13_02-55-32/Nvidia_C1D64_BiG250_BiG250_BiG250_BAtt_D1_Lookback180_predictions.csv\n",
            "/content/drive/My Drive/Nvidia_Stock_Market_History/Training/ensemble_inputs/90D/Nvidia_Stock_Training_90D_SA_2025-08-13_03-13-06/Nvidia_C1D64_BiG250_BiG250_BAtt_D1_Lookback90_predictions.csv\n",
            "/content/drive/My Drive/Nvidia_Stock_Market_History/Training/ensemble_inputs/60D/Nvidia_Stock_Training_60D_SA_2025-08-12_05-01-55/Nvidia_C1D64_BiG250_BiG250_BAtt_D1_Lookback60_predictions.csv\n",
            "/content/drive/My Drive/Nvidia_Stock_Market_History/Training/ensemble_inputs/30D/Nvidia_Stock_Training_30D_SA_2025-08-12_05-19-08/Nvidia_C1D64_BiG250_BiG250_BAtt_D1_Lookback30_predictions.csv\n",
            "/content/drive/My Drive/Nvidia_Stock_Market_History/Training/ensemble_inputs/14D/Nvidia_Stock_Training_14D_SA_2025-08-12_05-32-18/Nvidia_C1D64_BiG250_BiG250_BAtt_D1_Lookback14_predictions.csv\n",
            "/content/drive/My Drive/Nvidia_Stock_Market_History/Training/ensemble_inputs/1D/Nvidia_Stock_Training_1D_SA_2025-08-11_01-59-32/Nvidia_BiG250_BiG250_BAtt_D1_Lookback1_predictions.csv\n"
          ]
        }
      ]
    },
    {
      "cell_type": "markdown",
      "source": [
        "## Load and merge prediction CSVs for ensemble preparation\n",
        "<font color=\"#12A80D\"> <b>• Iterates through the discovered prediction CSV files and extracts the lookback period from the filename</br>• Reads each CSV, selects only the <code>Date</code> and <code>Predicted_Close</code> columns, and renames <code>Predicted_Close</code> to include the lookback period (e.g., <code>Pred_365</code>)</br>• Merges all prediction DataFrames on the <code>Date</code> column using an inner join to keep only matching dates</br>• Adds the <code>Actual_Close</code> column from one of the CSVs for reference</br>• Ensures the <code>Date</code> column is converted to datetime format for consistent handling</br>• Prints the merged DataFrame’s shape and first few rows for verification before training the meta-model</b> </font>"
      ],
      "metadata": {
        "id": "3UfKogVcSVNV"
      }
    },
    {
      "cell_type": "code",
      "source": [
        "# ---------------------------\n",
        "# Load each CSV and rename Predicted_Close to include Lookback\n",
        "# ---------------------------\n",
        "\n",
        "dfs = []  # Will store DataFrames from each lookback prediction file\n",
        "\n",
        "for f in csv_files:\n",
        "    # Extract lookback value from filename (assumes \"LookbackXX\" format is in filename)\n",
        "    lookback = [s for s in f.split(\"_\") if \"Lookback\" in s][0].replace(\"Lookback\", \"\")\n",
        "\n",
        "    # Read the CSV\n",
        "    df = pd.read_csv(f)\n",
        "\n",
        "    # Keep only Date and Predicted_Close columns\n",
        "    df = df[[\"Date\", \"Predicted_Close\"]]\n",
        "\n",
        "    # Rename Predicted_Close to include the lookback period (e.g., Pred_365)\n",
        "    df = df.rename(columns={\"Predicted_Close\": f\"Pred_{lookback}\"})\n",
        "\n",
        "    dfs.append(df)\n",
        "\n",
        "# Merge all prediction DataFrames on Date\n",
        "merged_df = dfs[0]\n",
        "for df in dfs[1:]:\n",
        "    merged_df = pd.merge(merged_df, df, on=\"Date\", how=\"inner\")\n",
        "\n",
        "# Load Actual_Close values from the first CSV and merge with predictions\n",
        "actual_df = pd.read_csv(csv_files[0])[[\"Date\", \"Actual_Close\"]]\n",
        "merged_df = pd.merge(merged_df, actual_df, on=\"Date\", how=\"inner\")\n",
        "\n",
        "# Ensure Date column is in datetime format\n",
        "merged_df[\"Date\"] = pd.to_datetime(merged_df[\"Date\"])\n",
        "\n",
        "# Print shape and preview of merged DataFrame\n",
        "print(\"Merged DataFrame shape:\", merged_df.shape)\n",
        "print(merged_df.head())"
      ],
      "metadata": {
        "colab": {
          "base_uri": "https://localhost:8080/"
        },
        "id": "RZLzm8aMIeK_",
        "outputId": "07e41eea-c8bb-4b2e-c211-655f650b9a0e"
      },
      "execution_count": null,
      "outputs": [
        {
          "output_type": "stream",
          "name": "stdout",
          "text": [
            "Merged DataFrame shape: (6114, 10)\n",
            "        Date  Pred_365  Pred_270  Pred_180   Pred_90   Pred_60   Pred_30  \\\n",
            "0 2001-04-18  0.569765  0.291505  0.298354  0.190794  0.158766  0.713176   \n",
            "1 2001-04-19  0.573504  0.285288  0.304174  0.206957  0.159088  0.691540   \n",
            "2 2001-04-20  0.574017  0.281664  0.312384  0.219704  0.162637  0.686194   \n",
            "3 2001-04-23  0.575973  0.280502  0.319873  0.223180  0.171424  0.659945   \n",
            "4 2001-04-24  0.577554  0.286060  0.324303  0.226387  0.188635  0.685888   \n",
            "\n",
            "    Pred_14    Pred_1  Actual_Close  \n",
            "0  0.371754  0.470702      0.295198  \n",
            "1  0.338006  0.537584      0.320568  \n",
            "2  0.319723  0.530042      0.332260  \n",
            "3  0.281302  0.522054      0.314722  \n",
            "4  0.237170  0.428162      0.292447  \n"
          ]
        }
      ]
    },
    {
      "cell_type": "markdown",
      "source": [
        "## Prepare training features and target for the meta-model\n",
        "<font color=\"#12A80D\"> <b>• Selects all columns in the merged DataFrame whose names start with <code>Pred_</code> as meta-model features</br>• Stores these prediction columns in <code>X</code> as the feature matrix</br>• Assigns the <code>Actual_Close</code> column to <code>y</code> as the target variable for supervised training</br>• This setup allows the meta-model to learn how to optimally combine predictions from multiple lookback models</b> </font>"
      ],
      "metadata": {
        "id": "apMSRsZFVVlZ"
      }
    },
    {
      "cell_type": "code",
      "source": [
        "# ---------------------------\n",
        "# Prepare training data\n",
        "# ---------------------------\n",
        "\n",
        "# Select all columns that start with \"Pred_\" — these are model prediction features\n",
        "feature_cols = [c for c in merged_df.columns if c.startswith(\"Pred_\")]\n",
        "\n",
        "# Feature matrix (X): prediction columns from all lookback models\n",
        "X = merged_df[feature_cols].values\n",
        "\n",
        "# Target vector (y): actual closing prices\n",
        "y = merged_df[\"Actual_Close\"].values"
      ],
      "metadata": {
        "id": "X1jDnet0Ih1x"
      },
      "execution_count": null,
      "outputs": []
    },
    {
      "cell_type": "markdown",
      "source": [
        "## Save the feature column order for inference\n",
        "<font color=\"#12A80D\"> <b>• Stores the list of feature column names (<code>feature_cols</code>) as a serialized <code>joblib</code> file in the meta-model save folder</br>• Ensures the target directory exists by creating it if necessary</br>• Preserves the exact feature ordering used during training so that future predictions use the same input structure</br>• Prints the save path for verification</b> </font>"
      ],
      "metadata": {
        "id": "GjF7Rql9WJFS"
      }
    },
    {
      "cell_type": "code",
      "source": [
        "# --------------------------\n",
        "# Save feature column order for later use in prediction\n",
        "# --------------------------\n",
        "\n",
        "# Define path for saving the list of feature column names\n",
        "feature_cols_path = os.path.join(META_MODEL_SAVE_FOLDER, \"feature_cols.joblib\")\n",
        "\n",
        "# Ensure the target folder exists\n",
        "os.makedirs(META_MODEL_SAVE_FOLDER, exist_ok=True)\n",
        "\n",
        "# Save the feature column names using joblib for easy loading later\n",
        "joblib.dump(feature_cols, feature_cols_path)\n",
        "\n",
        "print(f\"Feature columns saved to: {feature_cols_path}\")"
      ],
      "metadata": {
        "colab": {
          "base_uri": "https://localhost:8080/"
        },
        "id": "itKXG2ApIkvs",
        "outputId": "5990ce2b-82e0-46af-c958-bce257a7b6ba"
      },
      "execution_count": null,
      "outputs": [
        {
          "output_type": "stream",
          "name": "stdout",
          "text": [
            "Feature columns saved to: /content/drive/My Drive/Nvidia_Stock_Market_History/Training/Meta_Model_Trained/feature_cols.joblib\n"
          ]
        }
      ]
    },
    {
      "cell_type": "markdown",
      "source": [
        "## Train the meta-model (Ridge regression)\n",
        "<font color=\"#12A80D\"> <b>• Initializes a <code>Ridge</code> regression model with <code>alpha=1.0</code>, which applies L2 regularization to prevent overfitting while combining predictions from multiple lookback models</br>• Fits the meta-model on the merged feature set (<code>X</code>) containing predictions from all base models as inputs, and the actual closing prices (<code>y</code>) as targets</br>• This meta-model effectively learns optimal weights for blending each lookback model’s predictions into a single, more accurate ensemble output</b> </font>"
      ],
      "metadata": {
        "id": "NzOYNvTvXDAh"
      }
    },
    {
      "cell_type": "code",
      "source": [
        "# ---------------------------\n",
        "# Train Ridge regression\n",
        "# ---------------------------\n",
        "\n",
        "\n",
        "# Initialize Ridge regression model with L2 regularization strength alpha=1.0\n",
        "meta_model = Ridge(alpha=1.0)\n",
        "\n",
        "# Fit the model on stacked predictions (X) and actual closing prices (y)\n",
        "meta_model.fit(X, y)"
      ],
      "metadata": {
        "colab": {
          "base_uri": "https://localhost:8080/",
          "height": 80
        },
        "id": "ss3Q6jH9IlfC",
        "outputId": "f52348a1-5ed5-464b-cbfd-969633aa36d5"
      },
      "execution_count": null,
      "outputs": [
        {
          "output_type": "execute_result",
          "data": {
            "text/plain": [
              "Ridge()"
            ],
            "text/html": [
              "<style>#sk-container-id-3 {\n",
              "  /* Definition of color scheme common for light and dark mode */\n",
              "  --sklearn-color-text: #000;\n",
              "  --sklearn-color-text-muted: #666;\n",
              "  --sklearn-color-line: gray;\n",
              "  /* Definition of color scheme for unfitted estimators */\n",
              "  --sklearn-color-unfitted-level-0: #fff5e6;\n",
              "  --sklearn-color-unfitted-level-1: #f6e4d2;\n",
              "  --sklearn-color-unfitted-level-2: #ffe0b3;\n",
              "  --sklearn-color-unfitted-level-3: chocolate;\n",
              "  /* Definition of color scheme for fitted estimators */\n",
              "  --sklearn-color-fitted-level-0: #f0f8ff;\n",
              "  --sklearn-color-fitted-level-1: #d4ebff;\n",
              "  --sklearn-color-fitted-level-2: #b3dbfd;\n",
              "  --sklearn-color-fitted-level-3: cornflowerblue;\n",
              "\n",
              "  /* Specific color for light theme */\n",
              "  --sklearn-color-text-on-default-background: var(--sg-text-color, var(--theme-code-foreground, var(--jp-content-font-color1, black)));\n",
              "  --sklearn-color-background: var(--sg-background-color, var(--theme-background, var(--jp-layout-color0, white)));\n",
              "  --sklearn-color-border-box: var(--sg-text-color, var(--theme-code-foreground, var(--jp-content-font-color1, black)));\n",
              "  --sklearn-color-icon: #696969;\n",
              "\n",
              "  @media (prefers-color-scheme: dark) {\n",
              "    /* Redefinition of color scheme for dark theme */\n",
              "    --sklearn-color-text-on-default-background: var(--sg-text-color, var(--theme-code-foreground, var(--jp-content-font-color1, white)));\n",
              "    --sklearn-color-background: var(--sg-background-color, var(--theme-background, var(--jp-layout-color0, #111)));\n",
              "    --sklearn-color-border-box: var(--sg-text-color, var(--theme-code-foreground, var(--jp-content-font-color1, white)));\n",
              "    --sklearn-color-icon: #878787;\n",
              "  }\n",
              "}\n",
              "\n",
              "#sk-container-id-3 {\n",
              "  color: var(--sklearn-color-text);\n",
              "}\n",
              "\n",
              "#sk-container-id-3 pre {\n",
              "  padding: 0;\n",
              "}\n",
              "\n",
              "#sk-container-id-3 input.sk-hidden--visually {\n",
              "  border: 0;\n",
              "  clip: rect(1px 1px 1px 1px);\n",
              "  clip: rect(1px, 1px, 1px, 1px);\n",
              "  height: 1px;\n",
              "  margin: -1px;\n",
              "  overflow: hidden;\n",
              "  padding: 0;\n",
              "  position: absolute;\n",
              "  width: 1px;\n",
              "}\n",
              "\n",
              "#sk-container-id-3 div.sk-dashed-wrapped {\n",
              "  border: 1px dashed var(--sklearn-color-line);\n",
              "  margin: 0 0.4em 0.5em 0.4em;\n",
              "  box-sizing: border-box;\n",
              "  padding-bottom: 0.4em;\n",
              "  background-color: var(--sklearn-color-background);\n",
              "}\n",
              "\n",
              "#sk-container-id-3 div.sk-container {\n",
              "  /* jupyter's `normalize.less` sets `[hidden] { display: none; }`\n",
              "     but bootstrap.min.css set `[hidden] { display: none !important; }`\n",
              "     so we also need the `!important` here to be able to override the\n",
              "     default hidden behavior on the sphinx rendered scikit-learn.org.\n",
              "     See: https://github.com/scikit-learn/scikit-learn/issues/21755 */\n",
              "  display: inline-block !important;\n",
              "  position: relative;\n",
              "}\n",
              "\n",
              "#sk-container-id-3 div.sk-text-repr-fallback {\n",
              "  display: none;\n",
              "}\n",
              "\n",
              "div.sk-parallel-item,\n",
              "div.sk-serial,\n",
              "div.sk-item {\n",
              "  /* draw centered vertical line to link estimators */\n",
              "  background-image: linear-gradient(var(--sklearn-color-text-on-default-background), var(--sklearn-color-text-on-default-background));\n",
              "  background-size: 2px 100%;\n",
              "  background-repeat: no-repeat;\n",
              "  background-position: center center;\n",
              "}\n",
              "\n",
              "/* Parallel-specific style estimator block */\n",
              "\n",
              "#sk-container-id-3 div.sk-parallel-item::after {\n",
              "  content: \"\";\n",
              "  width: 100%;\n",
              "  border-bottom: 2px solid var(--sklearn-color-text-on-default-background);\n",
              "  flex-grow: 1;\n",
              "}\n",
              "\n",
              "#sk-container-id-3 div.sk-parallel {\n",
              "  display: flex;\n",
              "  align-items: stretch;\n",
              "  justify-content: center;\n",
              "  background-color: var(--sklearn-color-background);\n",
              "  position: relative;\n",
              "}\n",
              "\n",
              "#sk-container-id-3 div.sk-parallel-item {\n",
              "  display: flex;\n",
              "  flex-direction: column;\n",
              "}\n",
              "\n",
              "#sk-container-id-3 div.sk-parallel-item:first-child::after {\n",
              "  align-self: flex-end;\n",
              "  width: 50%;\n",
              "}\n",
              "\n",
              "#sk-container-id-3 div.sk-parallel-item:last-child::after {\n",
              "  align-self: flex-start;\n",
              "  width: 50%;\n",
              "}\n",
              "\n",
              "#sk-container-id-3 div.sk-parallel-item:only-child::after {\n",
              "  width: 0;\n",
              "}\n",
              "\n",
              "/* Serial-specific style estimator block */\n",
              "\n",
              "#sk-container-id-3 div.sk-serial {\n",
              "  display: flex;\n",
              "  flex-direction: column;\n",
              "  align-items: center;\n",
              "  background-color: var(--sklearn-color-background);\n",
              "  padding-right: 1em;\n",
              "  padding-left: 1em;\n",
              "}\n",
              "\n",
              "\n",
              "/* Toggleable style: style used for estimator/Pipeline/ColumnTransformer box that is\n",
              "clickable and can be expanded/collapsed.\n",
              "- Pipeline and ColumnTransformer use this feature and define the default style\n",
              "- Estimators will overwrite some part of the style using the `sk-estimator` class\n",
              "*/\n",
              "\n",
              "/* Pipeline and ColumnTransformer style (default) */\n",
              "\n",
              "#sk-container-id-3 div.sk-toggleable {\n",
              "  /* Default theme specific background. It is overwritten whether we have a\n",
              "  specific estimator or a Pipeline/ColumnTransformer */\n",
              "  background-color: var(--sklearn-color-background);\n",
              "}\n",
              "\n",
              "/* Toggleable label */\n",
              "#sk-container-id-3 label.sk-toggleable__label {\n",
              "  cursor: pointer;\n",
              "  display: flex;\n",
              "  width: 100%;\n",
              "  margin-bottom: 0;\n",
              "  padding: 0.5em;\n",
              "  box-sizing: border-box;\n",
              "  text-align: center;\n",
              "  align-items: start;\n",
              "  justify-content: space-between;\n",
              "  gap: 0.5em;\n",
              "}\n",
              "\n",
              "#sk-container-id-3 label.sk-toggleable__label .caption {\n",
              "  font-size: 0.6rem;\n",
              "  font-weight: lighter;\n",
              "  color: var(--sklearn-color-text-muted);\n",
              "}\n",
              "\n",
              "#sk-container-id-3 label.sk-toggleable__label-arrow:before {\n",
              "  /* Arrow on the left of the label */\n",
              "  content: \"▸\";\n",
              "  float: left;\n",
              "  margin-right: 0.25em;\n",
              "  color: var(--sklearn-color-icon);\n",
              "}\n",
              "\n",
              "#sk-container-id-3 label.sk-toggleable__label-arrow:hover:before {\n",
              "  color: var(--sklearn-color-text);\n",
              "}\n",
              "\n",
              "/* Toggleable content - dropdown */\n",
              "\n",
              "#sk-container-id-3 div.sk-toggleable__content {\n",
              "  max-height: 0;\n",
              "  max-width: 0;\n",
              "  overflow: hidden;\n",
              "  text-align: left;\n",
              "  /* unfitted */\n",
              "  background-color: var(--sklearn-color-unfitted-level-0);\n",
              "}\n",
              "\n",
              "#sk-container-id-3 div.sk-toggleable__content.fitted {\n",
              "  /* fitted */\n",
              "  background-color: var(--sklearn-color-fitted-level-0);\n",
              "}\n",
              "\n",
              "#sk-container-id-3 div.sk-toggleable__content pre {\n",
              "  margin: 0.2em;\n",
              "  border-radius: 0.25em;\n",
              "  color: var(--sklearn-color-text);\n",
              "  /* unfitted */\n",
              "  background-color: var(--sklearn-color-unfitted-level-0);\n",
              "}\n",
              "\n",
              "#sk-container-id-3 div.sk-toggleable__content.fitted pre {\n",
              "  /* unfitted */\n",
              "  background-color: var(--sklearn-color-fitted-level-0);\n",
              "}\n",
              "\n",
              "#sk-container-id-3 input.sk-toggleable__control:checked~div.sk-toggleable__content {\n",
              "  /* Expand drop-down */\n",
              "  max-height: 200px;\n",
              "  max-width: 100%;\n",
              "  overflow: auto;\n",
              "}\n",
              "\n",
              "#sk-container-id-3 input.sk-toggleable__control:checked~label.sk-toggleable__label-arrow:before {\n",
              "  content: \"▾\";\n",
              "}\n",
              "\n",
              "/* Pipeline/ColumnTransformer-specific style */\n",
              "\n",
              "#sk-container-id-3 div.sk-label input.sk-toggleable__control:checked~label.sk-toggleable__label {\n",
              "  color: var(--sklearn-color-text);\n",
              "  background-color: var(--sklearn-color-unfitted-level-2);\n",
              "}\n",
              "\n",
              "#sk-container-id-3 div.sk-label.fitted input.sk-toggleable__control:checked~label.sk-toggleable__label {\n",
              "  background-color: var(--sklearn-color-fitted-level-2);\n",
              "}\n",
              "\n",
              "/* Estimator-specific style */\n",
              "\n",
              "/* Colorize estimator box */\n",
              "#sk-container-id-3 div.sk-estimator input.sk-toggleable__control:checked~label.sk-toggleable__label {\n",
              "  /* unfitted */\n",
              "  background-color: var(--sklearn-color-unfitted-level-2);\n",
              "}\n",
              "\n",
              "#sk-container-id-3 div.sk-estimator.fitted input.sk-toggleable__control:checked~label.sk-toggleable__label {\n",
              "  /* fitted */\n",
              "  background-color: var(--sklearn-color-fitted-level-2);\n",
              "}\n",
              "\n",
              "#sk-container-id-3 div.sk-label label.sk-toggleable__label,\n",
              "#sk-container-id-3 div.sk-label label {\n",
              "  /* The background is the default theme color */\n",
              "  color: var(--sklearn-color-text-on-default-background);\n",
              "}\n",
              "\n",
              "/* On hover, darken the color of the background */\n",
              "#sk-container-id-3 div.sk-label:hover label.sk-toggleable__label {\n",
              "  color: var(--sklearn-color-text);\n",
              "  background-color: var(--sklearn-color-unfitted-level-2);\n",
              "}\n",
              "\n",
              "/* Label box, darken color on hover, fitted */\n",
              "#sk-container-id-3 div.sk-label.fitted:hover label.sk-toggleable__label.fitted {\n",
              "  color: var(--sklearn-color-text);\n",
              "  background-color: var(--sklearn-color-fitted-level-2);\n",
              "}\n",
              "\n",
              "/* Estimator label */\n",
              "\n",
              "#sk-container-id-3 div.sk-label label {\n",
              "  font-family: monospace;\n",
              "  font-weight: bold;\n",
              "  display: inline-block;\n",
              "  line-height: 1.2em;\n",
              "}\n",
              "\n",
              "#sk-container-id-3 div.sk-label-container {\n",
              "  text-align: center;\n",
              "}\n",
              "\n",
              "/* Estimator-specific */\n",
              "#sk-container-id-3 div.sk-estimator {\n",
              "  font-family: monospace;\n",
              "  border: 1px dotted var(--sklearn-color-border-box);\n",
              "  border-radius: 0.25em;\n",
              "  box-sizing: border-box;\n",
              "  margin-bottom: 0.5em;\n",
              "  /* unfitted */\n",
              "  background-color: var(--sklearn-color-unfitted-level-0);\n",
              "}\n",
              "\n",
              "#sk-container-id-3 div.sk-estimator.fitted {\n",
              "  /* fitted */\n",
              "  background-color: var(--sklearn-color-fitted-level-0);\n",
              "}\n",
              "\n",
              "/* on hover */\n",
              "#sk-container-id-3 div.sk-estimator:hover {\n",
              "  /* unfitted */\n",
              "  background-color: var(--sklearn-color-unfitted-level-2);\n",
              "}\n",
              "\n",
              "#sk-container-id-3 div.sk-estimator.fitted:hover {\n",
              "  /* fitted */\n",
              "  background-color: var(--sklearn-color-fitted-level-2);\n",
              "}\n",
              "\n",
              "/* Specification for estimator info (e.g. \"i\" and \"?\") */\n",
              "\n",
              "/* Common style for \"i\" and \"?\" */\n",
              "\n",
              ".sk-estimator-doc-link,\n",
              "a:link.sk-estimator-doc-link,\n",
              "a:visited.sk-estimator-doc-link {\n",
              "  float: right;\n",
              "  font-size: smaller;\n",
              "  line-height: 1em;\n",
              "  font-family: monospace;\n",
              "  background-color: var(--sklearn-color-background);\n",
              "  border-radius: 1em;\n",
              "  height: 1em;\n",
              "  width: 1em;\n",
              "  text-decoration: none !important;\n",
              "  margin-left: 0.5em;\n",
              "  text-align: center;\n",
              "  /* unfitted */\n",
              "  border: var(--sklearn-color-unfitted-level-1) 1pt solid;\n",
              "  color: var(--sklearn-color-unfitted-level-1);\n",
              "}\n",
              "\n",
              ".sk-estimator-doc-link.fitted,\n",
              "a:link.sk-estimator-doc-link.fitted,\n",
              "a:visited.sk-estimator-doc-link.fitted {\n",
              "  /* fitted */\n",
              "  border: var(--sklearn-color-fitted-level-1) 1pt solid;\n",
              "  color: var(--sklearn-color-fitted-level-1);\n",
              "}\n",
              "\n",
              "/* On hover */\n",
              "div.sk-estimator:hover .sk-estimator-doc-link:hover,\n",
              ".sk-estimator-doc-link:hover,\n",
              "div.sk-label-container:hover .sk-estimator-doc-link:hover,\n",
              ".sk-estimator-doc-link:hover {\n",
              "  /* unfitted */\n",
              "  background-color: var(--sklearn-color-unfitted-level-3);\n",
              "  color: var(--sklearn-color-background);\n",
              "  text-decoration: none;\n",
              "}\n",
              "\n",
              "div.sk-estimator.fitted:hover .sk-estimator-doc-link.fitted:hover,\n",
              ".sk-estimator-doc-link.fitted:hover,\n",
              "div.sk-label-container:hover .sk-estimator-doc-link.fitted:hover,\n",
              ".sk-estimator-doc-link.fitted:hover {\n",
              "  /* fitted */\n",
              "  background-color: var(--sklearn-color-fitted-level-3);\n",
              "  color: var(--sklearn-color-background);\n",
              "  text-decoration: none;\n",
              "}\n",
              "\n",
              "/* Span, style for the box shown on hovering the info icon */\n",
              ".sk-estimator-doc-link span {\n",
              "  display: none;\n",
              "  z-index: 9999;\n",
              "  position: relative;\n",
              "  font-weight: normal;\n",
              "  right: .2ex;\n",
              "  padding: .5ex;\n",
              "  margin: .5ex;\n",
              "  width: min-content;\n",
              "  min-width: 20ex;\n",
              "  max-width: 50ex;\n",
              "  color: var(--sklearn-color-text);\n",
              "  box-shadow: 2pt 2pt 4pt #999;\n",
              "  /* unfitted */\n",
              "  background: var(--sklearn-color-unfitted-level-0);\n",
              "  border: .5pt solid var(--sklearn-color-unfitted-level-3);\n",
              "}\n",
              "\n",
              ".sk-estimator-doc-link.fitted span {\n",
              "  /* fitted */\n",
              "  background: var(--sklearn-color-fitted-level-0);\n",
              "  border: var(--sklearn-color-fitted-level-3);\n",
              "}\n",
              "\n",
              ".sk-estimator-doc-link:hover span {\n",
              "  display: block;\n",
              "}\n",
              "\n",
              "/* \"?\"-specific style due to the `<a>` HTML tag */\n",
              "\n",
              "#sk-container-id-3 a.estimator_doc_link {\n",
              "  float: right;\n",
              "  font-size: 1rem;\n",
              "  line-height: 1em;\n",
              "  font-family: monospace;\n",
              "  background-color: var(--sklearn-color-background);\n",
              "  border-radius: 1rem;\n",
              "  height: 1rem;\n",
              "  width: 1rem;\n",
              "  text-decoration: none;\n",
              "  /* unfitted */\n",
              "  color: var(--sklearn-color-unfitted-level-1);\n",
              "  border: var(--sklearn-color-unfitted-level-1) 1pt solid;\n",
              "}\n",
              "\n",
              "#sk-container-id-3 a.estimator_doc_link.fitted {\n",
              "  /* fitted */\n",
              "  border: var(--sklearn-color-fitted-level-1) 1pt solid;\n",
              "  color: var(--sklearn-color-fitted-level-1);\n",
              "}\n",
              "\n",
              "/* On hover */\n",
              "#sk-container-id-3 a.estimator_doc_link:hover {\n",
              "  /* unfitted */\n",
              "  background-color: var(--sklearn-color-unfitted-level-3);\n",
              "  color: var(--sklearn-color-background);\n",
              "  text-decoration: none;\n",
              "}\n",
              "\n",
              "#sk-container-id-3 a.estimator_doc_link.fitted:hover {\n",
              "  /* fitted */\n",
              "  background-color: var(--sklearn-color-fitted-level-3);\n",
              "}\n",
              "</style><div id=\"sk-container-id-3\" class=\"sk-top-container\"><div class=\"sk-text-repr-fallback\"><pre>Ridge()</pre><b>In a Jupyter environment, please rerun this cell to show the HTML representation or trust the notebook. <br />On GitHub, the HTML representation is unable to render, please try loading this page with nbviewer.org.</b></div><div class=\"sk-container\" hidden><div class=\"sk-item\"><div class=\"sk-estimator fitted sk-toggleable\"><input class=\"sk-toggleable__control sk-hidden--visually\" id=\"sk-estimator-id-3\" type=\"checkbox\" checked><label for=\"sk-estimator-id-3\" class=\"sk-toggleable__label fitted sk-toggleable__label-arrow\"><div><div>Ridge</div></div><div><a class=\"sk-estimator-doc-link fitted\" rel=\"noreferrer\" target=\"_blank\" href=\"https://scikit-learn.org/1.6/modules/generated/sklearn.linear_model.Ridge.html\">?<span>Documentation for Ridge</span></a><span class=\"sk-estimator-doc-link fitted\">i<span>Fitted</span></span></div></label><div class=\"sk-toggleable__content fitted\"><pre>Ridge()</pre></div> </div></div></div></div>"
            ]
          },
          "metadata": {},
          "execution_count": 29
        }
      ]
    },
    {
      "cell_type": "markdown",
      "source": [
        "## Evaluate the meta-model performance\n",
        "<font color=\"#12A80D\"> <b>• Uses the trained <code>Ridge</code> regression model to generate predictions (<code>y_pred</code>) on the same data it was trained on</br>• Computes evaluation metrics to assess how well the meta-model fits the ensemble prediction task</b> </br></br>\n",
        "Metrics computed:</br>\n",
        "<font color=\"#12A80D\">\n",
        "<code>• R² Score</code> — Proportion of variance in the actual closing prices explained by the meta-model’s predictions.</br>\n",
        "<font color=\"#12A80D\">\n",
        "<code>• Mean Absolute Error (MAE)</code> — Average absolute difference between predictions and actual values.</br>\n",
        "<font color=\"#12A80D\">\n",
        "<code>• Mean Squared Error (MSE)</code> — Average squared prediction error, which penalizes larger mistakes more heavily.</br>\n",
        "<font color=\"#12A80D\">\n",
        "<code>• Root Mean Squared Error (RMSE)</code> — Square root of MSE, making the error metric directly comparable to the original target scale (closing price).\n",
        "\n",
        "Purpose:\n",
        "This evaluation validates whether combining all lookback models into a single weighted prediction improves accuracy and stability compared to individual lookback models.\n",
        "</font>"
      ],
      "metadata": {
        "id": "RxZfmCNsYlPI"
      }
    },
    {
      "cell_type": "code",
      "source": [
        "# ---------------------------\n",
        "# Evaluate meta-model performance\n",
        "# ---------------------------\n",
        "\n",
        "# Predict using the trained meta-model\n",
        "y_pred = meta_model.predict(X)\n",
        "\n",
        "# Calculate performance metrics\n",
        "r2 = r2_score(y, y_pred)                       # Coefficient of determination\n",
        "mae = mean_absolute_error(y, y_pred)           # Mean Absolute Error\n",
        "mse = mean_squared_error(y, y_pred)            # Mean Squared Error\n",
        "rmse = np.sqrt(mse)                            # Root Mean Squared Error (manual calc)\n",
        "\n",
        "# Print results\n",
        "print(f\"\\nMeta-model training complete.\")\n",
        "print(f\"R2 Score: {r2:.4f}\")\n",
        "print(f\"Mean Absolute Error: {mae:.4f}\")\n",
        "print(f\"Mean Squared Error: {mse:.4f}\")\n",
        "print(f\"Root Mean Squared Error: {rmse:.4f}\")\n"
      ],
      "metadata": {
        "colab": {
          "base_uri": "https://localhost:8080/"
        },
        "id": "SzRzvZRkIomK",
        "outputId": "36a2361b-c7c5-44b3-da2d-6579c67ad375"
      },
      "execution_count": null,
      "outputs": [
        {
          "output_type": "stream",
          "name": "stdout",
          "text": [
            "\n",
            "Meta-model training complete.\n",
            "R2 Score: 0.9961\n",
            "Mean Absolute Error: 0.7166\n",
            "Mean Squared Error: 3.5630\n",
            "Root Mean Squared Error: 1.8876\n"
          ]
        }
      ]
    },
    {
      "cell_type": "markdown",
      "source": [
        "## Metrics Explained\n",
        "<font color=\"#12A80D\">\n",
        "1. R² Score: 0.9961</br>\n",
        "Interpretation:</br>\n",
        "• The model explains 99.61% of the variance in the actual NVIDIA closing prices based on the ensemble of predictions from different lookback models.</br>\n",
        "\n",
        "Implication:\n",
        "This is an exceptionally high goodness-of-fit, meaning the weighted combination of the base models is capturing almost all patterns in the data.</br></br>\n",
        "\n",
        "2. Mean Absolute Error (MAE): 0.7166</br>\n",
        "Interpretation:</br>\n",
        "• On average, predictions are $0.72 away from the actual closing price.</br>\n",
        "\n",
        "Implication:</br>\n",
        "• Given NVIDIA’s share price volatility and scale, this level of error is quite low, suggesting high predictive precision.</br></br>\n",
        "\n",
        "3. Mean Squared Error (MSE): 3.5630</br>\n",
        "Interpretation:</br>\n",
        "• The average of squared prediction errors is 3.56, where larger errors are penalized more than smaller ones.</br>\n",
        "\n",
        "Implication:</br>\n",
        "• This confirms that extreme deviations are rare, since MSE is only slightly above MAE².</br>\n",
        "</br>\n",
        "4. Root Mean Squared Error (RMSE): 1.8876</br>\n",
        "Interpretation:</br>\n",
        "• Predictions are off by about $1.89 on the same scale as the stock price.</br>\n",
        "\n",
        "Implication:</br>\n",
        "• Since RMSE > MAE, it suggests there are occasional larger errors, but they’re not frequent enough to greatly reduce overall accuracy.</br></br>\n",
        "<font color=\"#12A80D\">\n",
        "Overall Conclusion</br>\n",
        "• This Ridge regression meta-model is highly effective at blending predictions from multiple lookback windows into a unified forecast.</br>\n",
        "The metrics indicate:\n",
        "\n",
        "<font color=\"#12A80D\">\n",
        "Extremely strong fit (R² close to 1.0)</br>\n",
        "<font color=\"#12A80D\">\n",
        "Low average deviation (< $2)\n",
        "\n",
        "Minimal extreme prediction errors\n",
        "\n",
        "• If the evaluation set is also the training set (as here), these numbers show it can represent the training data very well. The next step would be to validate on unseen data to confirm the generalization ability.\n",
        "</font>"
      ],
      "metadata": {
        "id": "YTz_M6IEaGCj"
      }
    },
    {
      "cell_type": "markdown",
      "source": [
        "## Save trained meta-model\n",
        "<font color=\"#12A80D\"> <b>• Creates the target directory if it does not exist, then serializes the fitted Ridge regression model to a .joblib file named meta_model_ridge.joblib in the META_MODEL_SAVE_FOLDER path</br>• Allows quick reloading later without retraining</br>• Ensures that ensemble prediction workflows can reuse the trained model in production or evaluation scripts</b> </font>"
      ],
      "metadata": {
        "id": "pHrC8MbCeUO8"
      }
    },
    {
      "cell_type": "code",
      "source": [
        "# ---------------------------\n",
        "# Save model\n",
        "# ---------------------------\n",
        "\n",
        "# Ensure the meta-model save folder exists\n",
        "os.makedirs(META_MODEL_SAVE_FOLDER, exist_ok=True)\n",
        "\n",
        "# Define full path for saving the trained Ridge meta-model\n",
        "meta_model_path = os.path.join(META_MODEL_SAVE_FOLDER, \"meta_model_ridge.joblib\")\n",
        "\n",
        "# Save the model using joblib for efficient serialization\n",
        "joblib.dump(meta_model, meta_model_path)\n",
        "\n",
        "print(f\"\\nMeta-model saved to: {meta_model_path}\")"
      ],
      "metadata": {
        "colab": {
          "base_uri": "https://localhost:8080/"
        },
        "id": "YruxkwJXIsr3",
        "outputId": "30569972-fbd9-474d-8d78-153f731a3425"
      },
      "execution_count": null,
      "outputs": [
        {
          "output_type": "stream",
          "name": "stdout",
          "text": [
            "\n",
            "Meta-model saved to: /content/drive/My Drive/Nvidia_Stock_Market_History/Training/Meta_Model_Trained/meta_model_ridge.joblib\n"
          ]
        }
      ]
    }
  ]
}