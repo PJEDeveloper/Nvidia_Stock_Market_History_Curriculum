{
  "nbformat": 4,
  "nbformat_minor": 0,
  "metadata": {
    "colab": {
      "provenance": [],
      "gpuType": "T4"
    },
    "kernelspec": {
      "name": "python3",
      "display_name": "Python 3"
    },
    "language_info": {
      "name": "python"
    },
    "accelerator": "GPU"
  },
  "cells": [
    {
      "cell_type": "markdown",
      "source": [
        "## Learning Objectives\n",
        "<font color=\"#12A80D\"> <b>\n",
        "1. Prepare the environment and data</br>• Install dependencies, configure Google Colab, and mount Google Drive.</br>• Load, preprocess, and scale historical stock market data for modeling.\n",
        "2. Build and train a deep learning model</br>• Implement a time-series forecasting model using TensorFlow/Keras with attention-based architecture.</br>• Apply training callbacks for performance optimization.\n",
        "3. Evaluate and save results</br>• Assess model performance using standard regression metrics.</br>• Save trained models, scalers, and outputs for reuse.\n",
        "\n",
        "</font>"
      ],
      "metadata": {
        "id": "-qZkHl7yOs6s"
      }
    },
    {
      "cell_type": "markdown",
      "source": [
        "# Environment Setup"
      ],
      "metadata": {
        "id": "cWu6s0eABE-I"
      }
    },
    {
      "cell_type": "markdown",
      "source": [
        "## Load Dependencies into the Colab Runtime Environment\n",
        "<font color=\"#12A80D\"> <b>• Installs and upgrades required Python packages in the Colab environment.</br>• Any installation errors can be ignored, as unused dependencies do not affect the execution of <code>Nvidia_Stock_Market_History_SimpleAttention_30D_Week4.ipynb</code>.</b> </font>"
      ],
      "metadata": {
        "id": "SP7te1GBBISs"
      }
    },
    {
      "cell_type": "code",
      "execution_count": null,
      "metadata": {
        "colab": {
          "base_uri": "https://localhost:8080/"
        },
        "id": "ip9fo5-W3b88",
        "outputId": "b0dab3dd-1d54-4d42-afc0-3c23e1cebcaf"
      },
      "outputs": [
        {
          "output_type": "stream",
          "name": "stdout",
          "text": [
            "Requirement already satisfied: pip in /usr/local/lib/python3.11/dist-packages (24.1.2)\n",
            "Collecting pip\n",
            "  Downloading pip-25.2-py3-none-any.whl.metadata (4.7 kB)\n",
            "Downloading pip-25.2-py3-none-any.whl (1.8 MB)\n",
            "\u001b[2K   \u001b[90m━━━━━━━━━━━━━━━━━━━━━━━━━━━━━━━━━━━━━━━━\u001b[0m \u001b[32m1.8/1.8 MB\u001b[0m \u001b[31m23.6 MB/s\u001b[0m eta \u001b[36m0:00:00\u001b[0m\n",
            "\u001b[?25hInstalling collected packages: pip\n",
            "  Attempting uninstall: pip\n",
            "    Found existing installation: pip 24.1.2\n",
            "    Uninstalling pip-24.1.2:\n",
            "      Successfully uninstalled pip-24.1.2\n",
            "Successfully installed pip-25.2\n",
            "Requirement already satisfied: numpy==2.0.2 in /usr/local/lib/python3.11/dist-packages (2.0.2)\n",
            "\u001b[31mERROR: pip's dependency resolver does not currently take into account all the packages that are installed. This behaviour is the source of the following dependency conflicts.\n",
            "tensorflow-text 2.19.0 requires tensorflow<2.20,>=2.19.0, but you have tensorflow 2.18.0 which is incompatible.\n",
            "tensorflow-decision-forests 1.12.0 requires tensorflow==2.19.0, but you have tensorflow 2.18.0 which is incompatible.\n",
            "tf-keras 2.19.0 requires tensorflow<2.20,>=2.19, but you have tensorflow 2.18.0 which is incompatible.\n",
            "tensorstore 0.1.76 requires ml_dtypes>=0.5.0, but you have ml-dtypes 0.4.1 which is incompatible.\u001b[0m\u001b[31m\n",
            "\u001b[0m"
          ]
        }
      ],
      "source": [
        "# =====================================\n",
        "# SETUP AND INSTALL DEPENDENCIES\n",
        "# =====================================\n",
        "!pip install --upgrade pip\n",
        "!pip install --quiet ipywidgets\n",
        "!pip install --upgrade numpy==2.0.2\n",
        "!pip install --quiet tensorflow==2.18.0\n",
        "!pip install --quiet pandas==2.2.2 matplotlib seaborn scikit-learn==1.6.1 tqdm\n",
        "!pip install --quiet transformers==4.53.1 tokenizers newsapi-python==0.2.7"
      ]
    },
    {
      "cell_type": "markdown",
      "source": [
        "## Import the Necessary Libraries and Modules\n",
        "<font color=\"#12A80D\"> <b>Enables Colab’s custom widget manager and imports libraries for file operations, numerical computation, data manipulation, visualization, preprocessing, model building, evaluation, callbacks, date handling, interactive widgets, serialization, and reproducibility.</b> </font>"
      ],
      "metadata": {
        "id": "66BH-aISF-vW"
      }
    },
    {
      "cell_type": "code",
      "source": [
        "# Enable custom Jupyter widget support in Google Colab\n",
        "from google.colab import output\n",
        "output.enable_custom_widget_manager()\n",
        "\n",
        "# Standard library imports\n",
        "import os              # For file path operations and environment variables\n",
        "import random          # For reproducibility (random number generation)\n",
        "from datetime import datetime  # For date/time handling and logging\n",
        "\n",
        "# Data manipulation & analysis\n",
        "import numpy as np     # For numerical computations and arrays\n",
        "import pandas as pd    # For data manipulation and analysis (DataFrames)\n",
        "\n",
        "# Visualization\n",
        "import matplotlib.pyplot as plt  # For plotting and visualizing data\n",
        "\n",
        "# Machine learning preprocessing\n",
        "from sklearn.preprocessing import MinMaxScaler  # For scaling features to a fixed range\n",
        "from sklearn.metrics import r2_score            # For model performance evaluation (R² metric)\n",
        "\n",
        "# TensorFlow / Keras deep learning\n",
        "import tensorflow as tf                         # TensorFlow backend\n",
        "from tensorflow import keras                    # High-level Keras API\n",
        "from tensorflow.keras.layers import (           # Neural network layers\n",
        "    Input,          # Input layer for defining model input shape\n",
        "    Layer,          # Base layer class for custom layers\n",
        "    Dense,          # Fully connected layer\n",
        "    Conv1D,         # 1D convolution layer (for time-series feature extraction)\n",
        "    GRU,            # Gated Recurrent Unit layer (recurrent neural net)\n",
        "    Bidirectional,  # Wrapper for bidirectional RNNs\n",
        "    LSTM            # Long Short-Term Memory layer\n",
        ")\n",
        "from tensorflow.keras.callbacks import (        # Training callbacks\n",
        "    EarlyStopping,       # Stop training early if performance stops improving\n",
        "    ReduceLROnPlateau    # Reduce learning rate when a metric stops improving\n",
        ")\n",
        "\n",
        "# Interactive widgets for Jupyter/Colab\n",
        "from ipywidgets import interact, widgets        # For interactive controls (sliders, dropdowns)\n",
        "\n",
        "# Serialization\n",
        "import pickle                                   # Save/load Python objects (models, scalers, etc.)\n"
      ],
      "metadata": {
        "id": "j9OhfuO03xCp"
      },
      "execution_count": null,
      "outputs": []
    },
    {
      "cell_type": "markdown",
      "source": [
        "## Check TensorFlow version and GPU availability\n",
        "<font color=\"#12A80D\"> <b>• Displays the installed TensorFlow version</br>• Lists available GPU devices detected by TensorFlow</b> </font>"
      ],
      "metadata": {
        "id": "SKmEz249G2lE"
      }
    },
    {
      "cell_type": "code",
      "source": [
        "# GPU check\n",
        "print(\"TensorFlow version:\", tf.__version__)  # Display installed TensorFlow version\n",
        "print(\"GPU Available:\", tf.config.list_physical_devices('GPU'))  # List detected GPUs"
      ],
      "metadata": {
        "colab": {
          "base_uri": "https://localhost:8080/"
        },
        "id": "eG-MZII-3zYF",
        "outputId": "70b6815e-6ab7-44b1-f910-d0c8a9f68599"
      },
      "execution_count": null,
      "outputs": [
        {
          "output_type": "stream",
          "name": "stdout",
          "text": [
            "TensorFlow version: 2.18.0\n",
            "GPU Available: [PhysicalDevice(name='/physical_device:GPU:0', device_type='GPU')]\n"
          ]
        }
      ]
    },
    {
      "cell_type": "markdown",
      "source": [
        "## Mount Google Drive in the Colab notebook to access its contents\n",
        "<font color=\"#12A80D\"> <b>• Requires granting access to Google Drive</br>• Forces remounting even if already mounted</b> </font>"
      ],
      "metadata": {
        "id": "XD2RWx_eHNnM"
      }
    },
    {
      "cell_type": "code",
      "source": [
        "# Mount Google Drive in Google Colab\n",
        "from google.colab import drive\n",
        "drive.mount('/content/drive', force_remount=True)  # force_remount=True ensures a fresh mount"
      ],
      "metadata": {
        "colab": {
          "base_uri": "https://localhost:8080/"
        },
        "id": "U4gBw8viRR6E",
        "outputId": "7e75f5af-4646-4f48-eb5f-acdf9fe40c4a"
      },
      "execution_count": null,
      "outputs": [
        {
          "output_type": "stream",
          "name": "stdout",
          "text": [
            "Mounted at /content/drive\n"
          ]
        }
      ]
    },
    {
      "cell_type": "markdown",
      "source": [
        "## Define directories and collect user input for configuration\n",
        "<font color=\"#12A80D\"> <b>• Requires Google Drive to be mounted</br>• Sets base directories for dataset location and training outputs</br>• Prompts for lookback window, base output folder name, and graph name, with defaults if left blank</br>• Creates a fixed ensemble directory structure inside the training folder, organized by lookback period (e.g., <code>30D</code>)</br>• Generates a timestamped subfolder within the lookback directory to store outputs</br>• No error is raised if the directories already exist</b> </font>"
      ],
      "metadata": {
        "id": "hJwpbl6bHckn"
      }
    },
    {
      "cell_type": "code",
      "source": [
        "# =====================================\n",
        "# DIRECTORIES AND USER INPUTS\n",
        "# =====================================\n",
        "\n",
        "# Base directories for dataset and training outputs\n",
        "base_dir = '/content/drive/MyDrive/Nvidia_Stock_Market_History'\n",
        "training_base_dir = f'{base_dir}/Training'\n",
        "\n",
        "# Path to the dataset CSV file\n",
        "dataset_path = f'{base_dir}/nvidia_stock_data.csv'\n",
        "print(f\"Dataset: {dataset_path}\")\n",
        "\n",
        "# Collect user inputs (with defaults if Enter is pressed without typing)\n",
        "lookback = int(input(\"Enter lookback window (e.g., 20): \") or 20)        # Number of past days for sequence input\n",
        "base_name = input(\"Enter a base name for output folder: \") or \"Nvidia_Stock_Training\"\n",
        "graph_base_name = input(\"Enter a base name for graphs: \") or \"NvidiaGraph\"\n",
        "\n",
        "# Fixed ensemble directory + lookback subfolder, e.g., .../Training/ensemble_inputs/365D\n",
        "ensemble_dir = os.path.join(training_base_dir, \"ensemble_inputs\", f\"{lookback}D\")\n",
        "os.makedirs(ensemble_dir, exist_ok=True)\n",
        "\n",
        "# Create a timestamped subfolder for saving outputs inside the lookback folder\n",
        "timestamp = datetime.now().strftime(\"%Y-%m-%d_%H-%M-%S\")\n",
        "subfolder = os.path.join(ensemble_dir, f\"{base_name}_{timestamp}\")\n",
        "os.makedirs(subfolder, exist_ok=True)\n",
        "\n",
        "print(f\"Outputs will be saved in: {subfolder}\")\n"
      ],
      "metadata": {
        "colab": {
          "base_uri": "https://localhost:8080/"
        },
        "id": "PFcB-33R32F_",
        "outputId": "b24a1fb6-aff7-481f-9add-154e16175602"
      },
      "execution_count": null,
      "outputs": [
        {
          "output_type": "stream",
          "name": "stdout",
          "text": [
            "Dataset: /content/drive/MyDrive/Nvidia_Stock_Market_History/nvidia_stock_data.csv\n",
            "Enter lookback window (e.g., 20): 30\n",
            "Enter a base name for output folder: Nvidia_Stock_Training_30D_SA\n",
            "Enter a base name for graphs: Nvidia\n",
            "Outputs will be saved in: /content/drive/MyDrive/Nvidia_Stock_Market_History/Training/ensemble_inputs/30D/Nvidia_Stock_Training_30D_SA_2025-08-13_04-16-33\n"
          ]
        }
      ]
    },
    {
      "cell_type": "markdown",
      "source": [
        "## Set random seeds for reproducibility\n",
        "<font color=\"#12A80D\"> <b>• Ensures consistent results across runs by fixing random seeds for Python, NumPy, and TensorFlow</br>• Enables deterministic TensorFlow operations for reproducible training</b> </font>"
      ],
      "metadata": {
        "id": "3sbU9hHiIwx8"
      }
    },
    {
      "cell_type": "code",
      "source": [
        "# =====================================\n",
        "# Reproducibility Settings\n",
        "# =====================================\n",
        "\n",
        "# Fixed random seed value for reproducible results across runs\n",
        "SEED = 42\n",
        "\n",
        "# Ensure Python's hashing operations are deterministic by fixing the hash seed\n",
        "os.environ['PYTHONHASHSEED'] = str(SEED)\n",
        "\n",
        "# Set the seed for Python's built-in random module\n",
        "random.seed(SEED)\n",
        "\n",
        "# Set the seed for NumPy's random number generator\n",
        "np.random.seed(SEED)\n",
        "\n",
        "# Set the seed for TensorFlow's random number generator\n",
        "tf.random.set_seed(SEED)\n",
        "\n",
        "# Force TensorFlow to use deterministic operations where possible\n",
        "# (may slightly slow down training but ensures reproducibility)\n",
        "os.environ['TF_DETERMINISTIC_OPS'] = '1'"
      ],
      "metadata": {
        "id": "hyVutZULawkW"
      },
      "execution_count": null,
      "outputs": []
    },
    {
      "cell_type": "markdown",
      "source": [
        "## Load the dataset and perform feature engineering for time series modeling\n",
        "<font color=\"#12A80D\"> <b>• Loads NVIDIA OHLCV data from CSV, converts dates, and sorts chronologically.</br>• Creates technical indicators (moving averages, volatility, returns, Bollinger Bands, ranges, lag values, and rolling rank) to help the model capture market trends, volatility patterns, momentum, and price relationships.</br>• Drops NaN rows from rolling calculations before modeling.</b> </font>"
      ],
      "metadata": {
        "id": "E-dNHKiOPt-W"
      }
    },
    {
      "cell_type": "code",
      "source": [
        "# =====================================\n",
        "# LOAD AND FEATURE ENGINEER DATA\n",
        "# =====================================\n",
        "\n",
        "# Load the dataset from CSV file\n",
        "df = pd.read_csv(dataset_path)\n",
        "\n",
        "# Convert 'Date' column to datetime format for proper time-series handling\n",
        "df['Date'] = pd.to_datetime(df['Date'])\n",
        "\n",
        "# Sort data chronologically and reset the index (important for time-series models)\n",
        "df = df.sort_values('Date').reset_index(drop=True)\n",
        "\n",
        "# Feature Engineering from Jupyter Notebook\n",
        "\n",
        "# Moving Averages: capture short-, medium-, and long-term trends\n",
        "df['MA20'] = df['Close'].rolling(window=20).mean() # 20-day moving average\n",
        "df['MA50'] = df['Close'].rolling(window=50).mean() # 50-day moving average\n",
        "df['MA200'] = df['Close'].rolling(window=200).mean() # 200-day moving average\n",
        "\n",
        "# Rolling Standard Deviation: measure volatility over short and medium terms\n",
        "df['STD20'] = df['Close'].rolling(window=20).std() # 20-day volatility\n",
        "df['STD50'] = df['Close'].rolling(window=50).std() # 50-day volatility\n",
        "\n",
        "# Percentage Returns: short-, medium-, and long-term return changes\n",
        "df['Return1'] = df['Close'].pct_change()  # 1-day return\n",
        "df['Return5'] = df['Close'].pct_change(5) # 5-day return\n",
        "df['Return20'] = df['Close'].pct_change(20)  # 20-day return\n",
        "\n",
        "# Bollinger Bands: volatility-based upper and lower price bounds\n",
        "df['Bollinger_Upper'] = df['MA20'] + 2 * df['STD20']\n",
        "df['Bollinger_Lower'] = df['MA20'] - 2 * df['STD20']\n",
        "\n",
        "# Daily range: difference between the high and low price of the day\n",
        "df['Range'] = df['High'] - df['Low']\n",
        "\n",
        "# Intraday change: difference between closing and opening price\n",
        "df['Close_Open'] = df['Close'] - df['Open']\n",
        "\n",
        "# Lag feature: previous day's closing price (helps capture autocorrelation)\n",
        "df['Lag1'] = df['Close'].shift(1)\n",
        "\n",
        "# Rolling percentile rank: how the latest close ranks within the last 20 days\n",
        "df['Rank20'] = df['Close'].rolling(20).apply(lambda x: pd.Series(x).rank(pct=True).iloc[-1])\n",
        "\n",
        "# List of selected feature columns for modeling\n",
        "features = [\n",
        "    'Close', 'Volume', 'Open', 'High', 'Low',\n",
        "    'MA20', 'MA50', 'MA200', 'STD20', 'STD50',\n",
        "    'Return1', 'Return5', 'Return20',\n",
        "    'Bollinger_Upper', 'Bollinger_Lower',\n",
        "    'Range', 'Close_Open', 'Lag1', 'Rank20'\n",
        "]\n",
        "\n",
        "# Remove rows with NaN values (caused by rolling/shift operations) and reset index\n",
        "df = df.dropna().reset_index(drop=True)\n",
        "\n",
        "# Print summary of features used and final dataset shape\n",
        "print(\"Columns used as features:\", features)\n",
        "print(\"Data shape after dropping NaNs:\", df.shape)\n"
      ],
      "metadata": {
        "colab": {
          "base_uri": "https://localhost:8080/"
        },
        "id": "QtBsfELl35W7",
        "outputId": "c5fc4b13-c901-47ea-c819-a663c898a72f"
      },
      "execution_count": null,
      "outputs": [
        {
          "output_type": "stream",
          "name": "stdout",
          "text": [
            "Columns used as features: ['Close', 'Volume', 'Open', 'High', 'Low', 'MA20', 'MA50', 'MA200', 'STD20', 'STD50', 'Return1', 'Return5', 'Return20', 'Bollinger_Upper', 'Bollinger_Lower', 'Range', 'Close_Open', 'Lag1', 'Rank20']\n",
            "Data shape after dropping NaNs: (6479, 20)\n"
          ]
        }
      ]
    },
    {
      "cell_type": "markdown",
      "source": [
        "## Scale feature columns using Min-Max normalization\n",
        "<font color=\"#12A80D\"> <b>• Scales each feature to the [0, 1] range using `MinMaxScaler`.</br>• Stores a separate scaler for each column for later inverse transformations.</b> </font>"
      ],
      "metadata": {
        "id": "SvPBLmnwP-RA"
      }
    },
    {
      "cell_type": "code",
      "source": [
        "# =====================================\n",
        "# Feature Scaling\n",
        "# =====================================\n",
        "\n",
        "# Dictionary to store the fitted scaler for each feature (for inverse transforms later)\n",
        "scalers = {}\n",
        "\n",
        "# List to temporarily hold the scaled arrays for each feature\n",
        "scaled_columns = []\n",
        "\n",
        "# Loop through each feature column and scale individually\n",
        "for col in features:\n",
        "    scaler = MinMaxScaler() # Initialize Min-Max Scaler (scales data to [0, 1])\n",
        "    scaled = scaler.fit_transform(df[[col]])  # Fit on the column and transform it\n",
        "    scalers[col] = scaler # Save scaler for this column\n",
        "    scaled_columns.append(scaled) # Append scaled column to list\n",
        "\n",
        "# Combine all scaled columns horizontally into one NumPy array\n",
        "# Result: rows = samples, columns = features, all values scaled to [0, 1]\n",
        "scaled_data = np.hstack(scaled_columns)"
      ],
      "metadata": {
        "id": "gVcFvTKMJAgA"
      },
      "execution_count": null,
      "outputs": []
    },
    {
      "cell_type": "markdown",
      "source": [
        "## Create input-output sequences for time series modeling\n",
        "<font color=\"#12A80D\"> <b>• Generates sequences of length `lookback` as model inputs (`X`) and the next time step’s target value (`y`).</br>• Uses the first feature column as the prediction target.</b> </font>"
      ],
      "metadata": {
        "id": "KL_fXzyYQLiM"
      }
    },
    {
      "cell_type": "code",
      "source": [
        "# =====================================\n",
        "# Create sequences for time-series modeling\n",
        "# =====================================\n",
        "\n",
        "# X will hold the input sequences, y will hold the target values\n",
        "X, y = [], []\n",
        "\n",
        "# Loop through the dataset starting from 'lookback' index\n",
        "# This ensures each sequence contains exactly 'lookback' timesteps of data\n",
        "for i in range(lookback, len(scaled_data)):\n",
        "  # Append the past 'lookback' rows (all features) as one training example\n",
        "    X.append(scaled_data[i-lookback:i])\n",
        "\n",
        "    # Append the target value: the 'Close' price at the current time step\n",
        "    # Assumes the first column (index 0) in scaled_data corresponds to 'Close'\n",
        "    y.append(scaled_data[i, 0])\n",
        "\n",
        "# Convert lists to NumPy arrays for model input\n",
        "# Shape of X: (num_samples, lookback, num_features)\n",
        "# Shape of y: (num_samples,)\n",
        "X, y = np.array(X), np.array(y)"
      ],
      "metadata": {
        "id": "lEudaqiYP0XU"
      },
      "execution_count": null,
      "outputs": []
    },
    {
      "cell_type": "markdown",
      "source": [
        "## Split the dataset into training, validation, and test sets\n",
        "<font color=\"#12A80D\"> <b>Uses 70% of the sequences for training, 20% for validation, and 10% for testing based on index ranges.</b> </font>"
      ],
      "metadata": {
        "id": "I3Q6HtC0QWPa"
      }
    },
    {
      "cell_type": "code",
      "source": [
        "# =====================================\n",
        "# Split dataset into train, validation, and test sets\n",
        "# =====================================\n",
        "\n",
        "# Calculate split indices\n",
        "split_1 = int(0.7 * len(X)) # First 70% for training\n",
        "split_2 = int(0.9 * len(X))  # Next 20% for validation, final 10% for testing\n",
        "\n",
        "# Training set: model learns patterns from this subset\n",
        "X_train, y_train = X[:split_1], y[:split_1]\n",
        "\n",
        "# Validation set: used to tune hyperparameters and monitor overfitting\n",
        "X_val, y_val = X[split_1:split_2], y[split_1:split_2]\n",
        "\n",
        "# Test set: completely unseen data for final performance evaluation\n",
        "X_test, y_test = X[split_2:], y[split_2:]"
      ],
      "metadata": {
        "id": "1CfUq8m4PzO9"
      },
      "execution_count": null,
      "outputs": []
    },
    {
      "cell_type": "markdown",
      "source": [
        "## Type hint for training data array\n",
        "<font color=\"#12A80D\"> <b>• Specifies that <code>X_train</code> is expected to be a NumPy array</br>• Uses <code># type: ignore</code> to bypass static type checking errors if variable definition occurs later</b> </font>"
      ],
      "metadata": {
        "id": "BMaZ6SRvQldo"
      }
    },
    {
      "cell_type": "code",
      "source": [
        "X_train: np.ndarray  # type: ignore  # Type hint says X_train should be a NumPy array; ignore type-checking errors for this line"
      ],
      "metadata": {
        "id": "b__GoiMgsDwI"
      },
      "execution_count": null,
      "outputs": []
    },
    {
      "cell_type": "markdown",
      "source": [
        "## Define a custom SimpleAttention layer for sequence weighting\n",
        "<font color=\"#12A80D\"> <b>• Implements additive attention over time steps</br>• Expects input shaped <code>(batch, timesteps, features)</code></br>• Computes scores via <code>tanh(W1(x))</code> then a scalar projection and <code>softmax</code> along the time axis</br>• Outputs a single context vector per sample by weighted summation across time</br>• <code>units</code> sets the attention hidden size</br>• No masking or weight return by default</br>• Place after RNN/CNN layers to summarize sequence information for downstream dense layers</b> </font>"
      ],
      "metadata": {
        "id": "WylcOTOoQzzi"
      }
    },
    {
      "cell_type": "code",
      "source": [
        "# =====================================\n",
        "# CUSTOM Simple ATTENTION LAYER\n",
        "# =====================================\n",
        "\n",
        "class SimpleAttention(Layer):\n",
        "    def __init__(self, units):\n",
        "        super(SimpleAttention, self).__init__()\n",
        "        self.W1 = Dense(units)  # Dense layer to learn intermediate attention scores\n",
        "        self.V = Dense(1)       # Dense layer to project scores to a single value per timestep\n",
        "\n",
        "    def call(self, hidden_states):\n",
        "        # Apply a non-linear transformation to the hidden states\n",
        "        score = tf.nn.tanh(self.W1(hidden_states))\n",
        "\n",
        "        # Convert scores to probabilities (attention weights) along the time axis\n",
        "        attention_weights = tf.nn.softmax(self.V(score), axis=1)\n",
        "\n",
        "        # Weight the hidden states by their attention scores\n",
        "        context_vector = attention_weights * hidden_states\n",
        "\n",
        "        # Sum across the time dimension to get a single context vector per sample\n",
        "        context_vector = tf.reduce_sum(context_vector, axis=1)\n",
        "\n",
        "        return context_vector"
      ],
      "metadata": {
        "id": "mvEC4k0a9oF_"
      },
      "execution_count": null,
      "outputs": []
    },
    {
      "cell_type": "markdown",
      "source": [
        "## Build the sequence model with CNN, Bi-GRU stacks, and SimpleAttention\n",
        "<font color=\"#12A80D\"> <b>• Defines a Sequential model designed to process sequences with a 30-day lookback window for NVIDIA stock forecasting</br>• Extracts local temporal patterns using <code>Conv1D</code>, models long-range dependencies with stacked Bidirectional GRUs, applies <code>SimpleAttention</code> to focus on the most relevant time steps, and outputs a single regression value</b>\n",
        "</br>Layer-by-layer breakdown:\n",
        "</br>• <b><code>Conv1D(64, kernel_size=3, activation=\"relu\")</code></b> — 1-D convolutional layer with 64 filters; each filter scans over a sliding window of 3 timesteps to detect short-term temporal patterns in the input sequence. The <code>relu</code> activation introduces non-linearity and helps model complex patterns. The input shape <code>(timesteps=30, features)</code> matches the 30-day lookback period.\n",
        "</br>• <b><code>Bidirectional(GRU(250, return_sequences=True, dropout=0.2))</code></b> — Gated Recurrent Unit (GRU) layer with 250 units. Bidirectional processing allows the model to learn from both past and future context within the lookback window. <code>return_sequences=True</code> ensures each timestep’s output is passed to the next layer, and <code>dropout=0.2</code> reduces overfitting. Four such layers are stacked to progressively learn higher-level temporal dependencies.\n",
        "</br>• <b><code>SimpleAttention(units=128)</code></b> — Custom attention mechanism with 128 hidden units in its scoring network. Learns to assign weights to timesteps, focusing on the most relevant portions of the 30-day history for prediction.\n",
        "</br>• <b><code>Dense(1)</code></b> — Fully connected layer producing a single output value (predicted closing price or target variable).\n",
        "\n",
        "</br>Why this configuration for 30-day lookback:\n",
        "</br>• The <b>Conv1D</b> layer quickly captures local fluctuations (e.g., weekly or monthly patterns) before recurrent processing.\n",
        "</br>• Stacked <b>Bidirectional GRUs</b> efficiently model complex, long-term dependencies in a full-year sequence without the higher memory cost of LSTMs.\n",
        "</br>• The <b>Attention layer</b> compensates for the long sequence length by allowing the model to focus on important days rather than treating all 30 equally.\n",
        "</br>• The combination of convolution, recurrent memory, and attention balances short-term volatility detection with long-term trend analysis, which is critical for annual lookback forecasting.\n",
        "</font>\n",
        "</br></br>\n",
        "<font color=\"#12A80D\">\n",
        "  <b><big>Additional explanation:</big></b>\n",
        "  <br>• <b><code>model.compile(optimizer=\"adam\", loss=\"mse\", metrics=[\"mae\", \"mse\"])</code></b> — Configures the model for training. Uses the Adam optimizer for adaptive learning rate adjustment, Mean Squared Error (MSE) as the loss function for regression, and tracks both Mean Absolute Error (MAE) and MSE as evaluation metrics during training.\n",
        "  <br>• <b><code>model.summary()</code></b> — Prints a detailed architecture table including each layer’s name, type, output shape, and number of trainable parameters, as well as the total parameter count. This helps verify that layer dimensions match expectations and that all intended components are present before training.\n",
        "</font>\n",
        "\n"
      ],
      "metadata": {
        "id": "XDXELA9_SXgg"
      }
    },
    {
      "cell_type": "code",
      "source": [
        "# =====================================\n",
        "# BUILD MODEL\n",
        "# =====================================\n",
        "\n",
        "model = keras.Sequential([\n",
        "    Input(shape=(X_train.shape[1], X_train.shape[2])),  # Define input shape: (timesteps, features)\n",
        "\n",
        "    Conv1D(64, kernel_size=3, activation=\"relu\"),       # 1D convolution to extract short-term patterns\n",
        "\n",
        "    Bidirectional(GRU(250, return_sequences=True, dropout=0.2)),  # 1st BiGRU layer\n",
        "    Bidirectional(GRU(250, return_sequences=True, dropout=0.2)),  # 2nd BiGRU layer\n",
        "\n",
        "    SimpleAttention(units=128),  # Custom attention layer to focus on important timesteps\n",
        "\n",
        "    Dense(1)  # Output layer for regression (predicting a single value)\n",
        "])\n",
        "\n",
        "# Compile model with Adam optimizer and MSE loss, tracking MAE and MSE as metrics\n",
        "model.compile(optimizer=\"adam\", loss=\"mse\", metrics=[\"mae\", \"mse\"])\n",
        "\n",
        "# Display the model architecture\n",
        "model.summary()"
      ],
      "metadata": {
        "colab": {
          "base_uri": "https://localhost:8080/",
          "height": 323
        },
        "id": "eMPTIAhv9sBy",
        "outputId": "927cff40-31d2-44b0-ee50-ed3daafaa302"
      },
      "execution_count": null,
      "outputs": [
        {
          "output_type": "display_data",
          "data": {
            "text/plain": [
              "\u001b[1mModel: \"sequential\"\u001b[0m\n"
            ],
            "text/html": [
              "<pre style=\"white-space:pre;overflow-x:auto;line-height:normal;font-family:Menlo,'DejaVu Sans Mono',consolas,'Courier New',monospace\"><span style=\"font-weight: bold\">Model: \"sequential\"</span>\n",
              "</pre>\n"
            ]
          },
          "metadata": {}
        },
        {
          "output_type": "display_data",
          "data": {
            "text/plain": [
              "┏━━━━━━━━━━━━━━━━━━━━━━━━━━━━━━━━━┳━━━━━━━━━━━━━━━━━━━━━━━━┳━━━━━━━━━━━━━━━┓\n",
              "┃\u001b[1m \u001b[0m\u001b[1mLayer (type)                   \u001b[0m\u001b[1m \u001b[0m┃\u001b[1m \u001b[0m\u001b[1mOutput Shape          \u001b[0m\u001b[1m \u001b[0m┃\u001b[1m \u001b[0m\u001b[1m      Param #\u001b[0m\u001b[1m \u001b[0m┃\n",
              "┡━━━━━━━━━━━━━━━━━━━━━━━━━━━━━━━━━╇━━━━━━━━━━━━━━━━━━━━━━━━╇━━━━━━━━━━━━━━━┩\n",
              "│ conv1d (\u001b[38;5;33mConv1D\u001b[0m)                 │ (\u001b[38;5;45mNone\u001b[0m, \u001b[38;5;34m28\u001b[0m, \u001b[38;5;34m64\u001b[0m)         │         \u001b[38;5;34m3,712\u001b[0m │\n",
              "├─────────────────────────────────┼────────────────────────┼───────────────┤\n",
              "│ bidirectional (\u001b[38;5;33mBidirectional\u001b[0m)   │ (\u001b[38;5;45mNone\u001b[0m, \u001b[38;5;34m28\u001b[0m, \u001b[38;5;34m500\u001b[0m)        │       \u001b[38;5;34m474,000\u001b[0m │\n",
              "├─────────────────────────────────┼────────────────────────┼───────────────┤\n",
              "│ bidirectional_1 (\u001b[38;5;33mBidirectional\u001b[0m) │ (\u001b[38;5;45mNone\u001b[0m, \u001b[38;5;34m28\u001b[0m, \u001b[38;5;34m500\u001b[0m)        │     \u001b[38;5;34m1,128,000\u001b[0m │\n",
              "├─────────────────────────────────┼────────────────────────┼───────────────┤\n",
              "│ simple_attention                │ (\u001b[38;5;45mNone\u001b[0m, \u001b[38;5;34m500\u001b[0m)            │        \u001b[38;5;34m64,257\u001b[0m │\n",
              "│ (\u001b[38;5;33mSimpleAttention\u001b[0m)               │                        │               │\n",
              "├─────────────────────────────────┼────────────────────────┼───────────────┤\n",
              "│ dense_2 (\u001b[38;5;33mDense\u001b[0m)                 │ (\u001b[38;5;45mNone\u001b[0m, \u001b[38;5;34m1\u001b[0m)              │           \u001b[38;5;34m501\u001b[0m │\n",
              "└─────────────────────────────────┴────────────────────────┴───────────────┘\n"
            ],
            "text/html": [
              "<pre style=\"white-space:pre;overflow-x:auto;line-height:normal;font-family:Menlo,'DejaVu Sans Mono',consolas,'Courier New',monospace\">┏━━━━━━━━━━━━━━━━━━━━━━━━━━━━━━━━━┳━━━━━━━━━━━━━━━━━━━━━━━━┳━━━━━━━━━━━━━━━┓\n",
              "┃<span style=\"font-weight: bold\"> Layer (type)                    </span>┃<span style=\"font-weight: bold\"> Output Shape           </span>┃<span style=\"font-weight: bold\">       Param # </span>┃\n",
              "┡━━━━━━━━━━━━━━━━━━━━━━━━━━━━━━━━━╇━━━━━━━━━━━━━━━━━━━━━━━━╇━━━━━━━━━━━━━━━┩\n",
              "│ conv1d (<span style=\"color: #0087ff; text-decoration-color: #0087ff\">Conv1D</span>)                 │ (<span style=\"color: #00d7ff; text-decoration-color: #00d7ff\">None</span>, <span style=\"color: #00af00; text-decoration-color: #00af00\">28</span>, <span style=\"color: #00af00; text-decoration-color: #00af00\">64</span>)         │         <span style=\"color: #00af00; text-decoration-color: #00af00\">3,712</span> │\n",
              "├─────────────────────────────────┼────────────────────────┼───────────────┤\n",
              "│ bidirectional (<span style=\"color: #0087ff; text-decoration-color: #0087ff\">Bidirectional</span>)   │ (<span style=\"color: #00d7ff; text-decoration-color: #00d7ff\">None</span>, <span style=\"color: #00af00; text-decoration-color: #00af00\">28</span>, <span style=\"color: #00af00; text-decoration-color: #00af00\">500</span>)        │       <span style=\"color: #00af00; text-decoration-color: #00af00\">474,000</span> │\n",
              "├─────────────────────────────────┼────────────────────────┼───────────────┤\n",
              "│ bidirectional_1 (<span style=\"color: #0087ff; text-decoration-color: #0087ff\">Bidirectional</span>) │ (<span style=\"color: #00d7ff; text-decoration-color: #00d7ff\">None</span>, <span style=\"color: #00af00; text-decoration-color: #00af00\">28</span>, <span style=\"color: #00af00; text-decoration-color: #00af00\">500</span>)        │     <span style=\"color: #00af00; text-decoration-color: #00af00\">1,128,000</span> │\n",
              "├─────────────────────────────────┼────────────────────────┼───────────────┤\n",
              "│ simple_attention                │ (<span style=\"color: #00d7ff; text-decoration-color: #00d7ff\">None</span>, <span style=\"color: #00af00; text-decoration-color: #00af00\">500</span>)            │        <span style=\"color: #00af00; text-decoration-color: #00af00\">64,257</span> │\n",
              "│ (<span style=\"color: #0087ff; text-decoration-color: #0087ff\">SimpleAttention</span>)               │                        │               │\n",
              "├─────────────────────────────────┼────────────────────────┼───────────────┤\n",
              "│ dense_2 (<span style=\"color: #0087ff; text-decoration-color: #0087ff\">Dense</span>)                 │ (<span style=\"color: #00d7ff; text-decoration-color: #00d7ff\">None</span>, <span style=\"color: #00af00; text-decoration-color: #00af00\">1</span>)              │           <span style=\"color: #00af00; text-decoration-color: #00af00\">501</span> │\n",
              "└─────────────────────────────────┴────────────────────────┴───────────────┘\n",
              "</pre>\n"
            ]
          },
          "metadata": {}
        },
        {
          "output_type": "display_data",
          "data": {
            "text/plain": [
              "\u001b[1m Total params: \u001b[0m\u001b[38;5;34m1,670,470\u001b[0m (6.37 MB)\n"
            ],
            "text/html": [
              "<pre style=\"white-space:pre;overflow-x:auto;line-height:normal;font-family:Menlo,'DejaVu Sans Mono',consolas,'Courier New',monospace\"><span style=\"font-weight: bold\"> Total params: </span><span style=\"color: #00af00; text-decoration-color: #00af00\">1,670,470</span> (6.37 MB)\n",
              "</pre>\n"
            ]
          },
          "metadata": {}
        },
        {
          "output_type": "display_data",
          "data": {
            "text/plain": [
              "\u001b[1m Trainable params: \u001b[0m\u001b[38;5;34m1,670,470\u001b[0m (6.37 MB)\n"
            ],
            "text/html": [
              "<pre style=\"white-space:pre;overflow-x:auto;line-height:normal;font-family:Menlo,'DejaVu Sans Mono',consolas,'Courier New',monospace\"><span style=\"font-weight: bold\"> Trainable params: </span><span style=\"color: #00af00; text-decoration-color: #00af00\">1,670,470</span> (6.37 MB)\n",
              "</pre>\n"
            ]
          },
          "metadata": {}
        },
        {
          "output_type": "display_data",
          "data": {
            "text/plain": [
              "\u001b[1m Non-trainable params: \u001b[0m\u001b[38;5;34m0\u001b[0m (0.00 B)\n"
            ],
            "text/html": [
              "<pre style=\"white-space:pre;overflow-x:auto;line-height:normal;font-family:Menlo,'DejaVu Sans Mono',consolas,'Courier New',monospace\"><span style=\"font-weight: bold\"> Non-trainable params: </span><span style=\"color: #00af00; text-decoration-color: #00af00\">0</span> (0.00 B)\n",
              "</pre>\n"
            ]
          },
          "metadata": {}
        }
      ]
    },
    {
      "cell_type": "markdown",
      "source": [
        "## Model summary output for the built Sequential model\n",
        "<font color=\"#12A80D\"> <b>• Lists each layer with its type, output shape, and number of trainable parameters</br>• Shows the architecture: Conv1D → two Bidirectional GRUs → SimpleAttention → Dense output</br>• Indicates how sequence dimensions evolve across layers (e.g., 30 → 28 timesteps after Conv1D with kernel size 3)</br>• Reports total parameters (1,670,470), all trainable, confirming model capacity and component inclusion</b> </font>"
      ],
      "metadata": {
        "id": "V3XPjkdFaSTh"
      }
    },
    {
      "cell_type": "markdown",
      "source": [
        "## Build a model configuration string for filenames\n",
        "<font color=\"#12A80D\"> <b>• Generates a compact text representation of the model architecture for use in file naming</br>• Iterates through model layers and encodes each by type and key parameters</br>• <code>C1D{filters}</code> for Conv1D layers, <code>BiG{units}</code> for Bidirectional GRUs, <code>BiL{units}</code> for Bidirectional LSTMs, <code>D{units}</code> for Dense layers, and <code>BAtt</code> for the SimpleAttention layer</br>• Joins these codes into a single string, appends the lookback window length, and prints the result</b> </font>"
      ],
      "metadata": {
        "id": "I0BLH0boUi9x"
      }
    },
    {
      "cell_type": "code",
      "source": [
        "# ---------------------------\n",
        "# Build model config string\n",
        "# ---------------------------\n",
        "\n",
        "layer_descriptions = []  # Will hold short codes describing each layer\n",
        "\n",
        "# Loop through each layer in the model\n",
        "for i, layer in enumerate(model.layers):\n",
        "    if isinstance(layer, Conv1D):\n",
        "        # C1D followed by number of filters\n",
        "        layer_descriptions.append(f\"C1D{layer.filters}\")\n",
        "\n",
        "    elif isinstance(layer, Bidirectional):\n",
        "        # Access the wrapped forward layer to determine type and units\n",
        "        forward = layer.forward_layer\n",
        "        if isinstance(forward, GRU):\n",
        "            layer_descriptions.append(f\"BiG{forward.units}\")  # BiG = Bidirectional GRU\n",
        "        elif isinstance(forward, LSTM):\n",
        "            layer_descriptions.append(f\"BiL{forward.units}\")  # BiL = Bidirectional LSTM\n",
        "\n",
        "    elif isinstance(layer, Dense):\n",
        "        # D followed by number of units\n",
        "        layer_descriptions.append(f\"D{layer.units}\")\n",
        "\n",
        "    elif isinstance(layer, SimpleAttention):\n",
        "        # Custom attention layer\n",
        "        layer_descriptions.append(\"BAtt\")  # BAtt = Basic (Simple) Attention\n",
        "\n",
        "# Combine the layer codes into a single string\n",
        "model_config_str = \"_\".join(layer_descriptions)\n",
        "\n",
        "# Append the lookback window size to the config string\n",
        "config_suffix = f\"{model_config_str}_Lookback{lookback}\"\n",
        "\n",
        "# Print final configuration string for use in file naming\n",
        "print(\"Model configuration string for filenames:\", config_suffix)"
      ],
      "metadata": {
        "colab": {
          "base_uri": "https://localhost:8080/"
        },
        "id": "LuZ9zYuWSAdL",
        "outputId": "c1da0241-8456-411e-da44-40a896c8f91a"
      },
      "execution_count": null,
      "outputs": [
        {
          "output_type": "stream",
          "name": "stdout",
          "text": [
            "Model configuration string for filenames: C1D64_BiG250_BiG250_BAtt_D1_Lookback30\n"
          ]
        }
      ]
    },
    {
      "cell_type": "markdown",
      "source": [
        "## Train the model with early stopping and learning rate reduction\n",
        "<font color=\"#12A80D\"> <b>• Trains the sequence model on the training data and evaluates on the validation set each epoch</br>• Uses <code>EarlyStopping</code> to halt training if validation loss does not improve for 8 epochs, restoring the best weights</br>• Uses <code>ReduceLROnPlateau</code> to halve the learning rate if validation loss stagnates for 3 epochs, helping escape plateaus</br>• Runs for up to 200 epochs with a batch size of 32, but may stop early due to callbacks</b> </font>"
      ],
      "metadata": {
        "id": "xjeiFftHWKL1"
      }
    },
    {
      "cell_type": "code",
      "source": [
        "# =====================================\n",
        "# TRAIN MODEL\n",
        "# =====================================\n",
        "\n",
        "# Early stopping callback: stops training if validation loss doesn't improve\n",
        "early_stop = keras.callbacks.EarlyStopping(\n",
        "    monitor='val_loss',        # Metric to monitor\n",
        "    patience=8,                # Stop if no improvement for 8 epochs\n",
        "    restore_best_weights=True, # Revert to the best model weights\n",
        "    verbose=1\n",
        ")\n",
        "\n",
        "# Reduce learning rate callback: lowers LR when validation loss plateaus\n",
        "reduce_lr = keras.callbacks.ReduceLROnPlateau(\n",
        "    monitor='val_loss',  # Metric to monitor\n",
        "    factor=0.5,          # Reduce LR by half\n",
        "    patience=3,          # Wait 3 epochs without improvement before reducing\n",
        "    verbose=1\n",
        ")\n",
        "\n",
        "# Train the model with training data and validate on the validation set\n",
        "history = model.fit(\n",
        "    X_train, y_train,                # Training inputs and targets\n",
        "    epochs=200,                      # Maximum number of training epochs\n",
        "    batch_size=32,                    # Number of samples per gradient update\n",
        "    validation_data=(X_val, y_val),   # Validation inputs and targets\n",
        "    callbacks=[early_stop, reduce_lr],# Callbacks to control training\n",
        "    verbose=1                         # Display training progress\n",
        ")"
      ],
      "metadata": {
        "colab": {
          "base_uri": "https://localhost:8080/"
        },
        "id": "p8i_PQhA9wYd",
        "outputId": "9b54cb6e-5d6d-4710-e9e6-6b7c9925fcb0"
      },
      "execution_count": null,
      "outputs": [
        {
          "output_type": "stream",
          "name": "stdout",
          "text": [
            "Epoch 1/200\n",
            "\u001b[1m142/142\u001b[0m \u001b[32m━━━━━━━━━━━━━━━━━━━━\u001b[0m\u001b[37m\u001b[0m \u001b[1m10s\u001b[0m 26ms/step - loss: 0.0211 - mae: 0.0747 - mse: 0.0211 - val_loss: 0.0046 - val_mae: 0.0560 - val_mse: 0.0046 - learning_rate: 0.0010\n",
            "Epoch 2/200\n",
            "\u001b[1m142/142\u001b[0m \u001b[32m━━━━━━━━━━━━━━━━━━━━\u001b[0m\u001b[37m\u001b[0m \u001b[1m7s\u001b[0m 17ms/step - loss: 4.7696e-05 - mae: 0.0052 - mse: 4.7696e-05 - val_loss: 0.0038 - val_mae: 0.0512 - val_mse: 0.0038 - learning_rate: 0.0010\n",
            "Epoch 3/200\n",
            "\u001b[1m142/142\u001b[0m \u001b[32m━━━━━━━━━━━━━━━━━━━━\u001b[0m\u001b[37m\u001b[0m \u001b[1m2s\u001b[0m 17ms/step - loss: 3.8044e-05 - mae: 0.0047 - mse: 3.8044e-05 - val_loss: 0.0027 - val_mae: 0.0431 - val_mse: 0.0027 - learning_rate: 0.0010\n",
            "Epoch 4/200\n",
            "\u001b[1m142/142\u001b[0m \u001b[32m━━━━━━━━━━━━━━━━━━━━\u001b[0m\u001b[37m\u001b[0m \u001b[1m4s\u001b[0m 24ms/step - loss: 3.1430e-05 - mae: 0.0043 - mse: 3.1430e-05 - val_loss: 0.0012 - val_mae: 0.0281 - val_mse: 0.0012 - learning_rate: 0.0010\n",
            "Epoch 5/200\n",
            "\u001b[1m142/142\u001b[0m \u001b[32m━━━━━━━━━━━━━━━━━━━━\u001b[0m\u001b[37m\u001b[0m \u001b[1m2s\u001b[0m 17ms/step - loss: 2.2416e-05 - mae: 0.0036 - mse: 2.2416e-05 - val_loss: 3.0749e-04 - val_mae: 0.0139 - val_mse: 3.0749e-04 - learning_rate: 0.0010\n",
            "Epoch 6/200\n",
            "\u001b[1m142/142\u001b[0m \u001b[32m━━━━━━━━━━━━━━━━━━━━\u001b[0m\u001b[37m\u001b[0m \u001b[1m3s\u001b[0m 17ms/step - loss: 1.7344e-05 - mae: 0.0032 - mse: 1.7344e-05 - val_loss: 1.3286e-04 - val_mae: 0.0076 - val_mse: 1.3286e-04 - learning_rate: 0.0010\n",
            "Epoch 7/200\n",
            "\u001b[1m142/142\u001b[0m \u001b[32m━━━━━━━━━━━━━━━━━━━━\u001b[0m\u001b[37m\u001b[0m \u001b[1m2s\u001b[0m 16ms/step - loss: 1.4233e-05 - mae: 0.0029 - mse: 1.4233e-05 - val_loss: 1.8856e-04 - val_mae: 0.0085 - val_mse: 1.8856e-04 - learning_rate: 0.0010\n",
            "Epoch 8/200\n",
            "\u001b[1m142/142\u001b[0m \u001b[32m━━━━━━━━━━━━━━━━━━━━\u001b[0m\u001b[37m\u001b[0m \u001b[1m3s\u001b[0m 17ms/step - loss: 1.1241e-05 - mae: 0.0026 - mse: 1.1241e-05 - val_loss: 2.7915e-04 - val_mae: 0.0098 - val_mse: 2.7915e-04 - learning_rate: 0.0010\n",
            "Epoch 9/200\n",
            "\u001b[1m141/142\u001b[0m \u001b[32m━━━━━━━━━━━━━━━━━━━\u001b[0m\u001b[37m━\u001b[0m \u001b[1m0s\u001b[0m 19ms/step - loss: 1.0663e-05 - mae: 0.0025 - mse: 1.0663e-05\n",
            "Epoch 9: ReduceLROnPlateau reducing learning rate to 0.0005000000237487257.\n",
            "\u001b[1m142/142\u001b[0m \u001b[32m━━━━━━━━━━━━━━━━━━━━\u001b[0m\u001b[37m\u001b[0m \u001b[1m3s\u001b[0m 22ms/step - loss: 1.0653e-05 - mae: 0.0025 - mse: 1.0653e-05 - val_loss: 4.2589e-04 - val_mae: 0.0121 - val_mse: 4.2589e-04 - learning_rate: 0.0010\n",
            "Epoch 10/200\n",
            "\u001b[1m142/142\u001b[0m \u001b[32m━━━━━━━━━━━━━━━━━━━━\u001b[0m\u001b[37m\u001b[0m \u001b[1m5s\u001b[0m 18ms/step - loss: 7.8894e-06 - mae: 0.0021 - mse: 7.8894e-06 - val_loss: 3.6995e-04 - val_mae: 0.0113 - val_mse: 3.6995e-04 - learning_rate: 5.0000e-04\n",
            "Epoch 11/200\n",
            "\u001b[1m142/142\u001b[0m \u001b[32m━━━━━━━━━━━━━━━━━━━━\u001b[0m\u001b[37m\u001b[0m \u001b[1m2s\u001b[0m 16ms/step - loss: 6.8762e-06 - mae: 0.0019 - mse: 6.8762e-06 - val_loss: 4.8583e-04 - val_mae: 0.0133 - val_mse: 4.8583e-04 - learning_rate: 5.0000e-04\n",
            "Epoch 12/200\n",
            "\u001b[1m139/142\u001b[0m \u001b[32m━━━━━━━━━━━━━━━━━━━\u001b[0m\u001b[37m━\u001b[0m \u001b[1m0s\u001b[0m 15ms/step - loss: 6.5265e-06 - mae: 0.0019 - mse: 6.5265e-06\n",
            "Epoch 12: ReduceLROnPlateau reducing learning rate to 0.0002500000118743628.\n",
            "\u001b[1m142/142\u001b[0m \u001b[32m━━━━━━━━━━━━━━━━━━━━\u001b[0m\u001b[37m\u001b[0m \u001b[1m2s\u001b[0m 17ms/step - loss: 6.5282e-06 - mae: 0.0019 - mse: 6.5282e-06 - val_loss: 4.2736e-04 - val_mae: 0.0125 - val_mse: 4.2736e-04 - learning_rate: 5.0000e-04\n",
            "Epoch 13/200\n",
            "\u001b[1m142/142\u001b[0m \u001b[32m━━━━━━━━━━━━━━━━━━━━\u001b[0m\u001b[37m\u001b[0m \u001b[1m3s\u001b[0m 21ms/step - loss: 5.5910e-06 - mae: 0.0018 - mse: 5.5910e-06 - val_loss: 4.3262e-04 - val_mae: 0.0125 - val_mse: 4.3262e-04 - learning_rate: 2.5000e-04\n",
            "Epoch 14/200\n",
            "\u001b[1m142/142\u001b[0m \u001b[32m━━━━━━━━━━━━━━━━━━━━\u001b[0m\u001b[37m\u001b[0m \u001b[1m3s\u001b[0m 17ms/step - loss: 5.8395e-06 - mae: 0.0018 - mse: 5.8395e-06 - val_loss: 5.3202e-04 - val_mae: 0.0144 - val_mse: 5.3202e-04 - learning_rate: 2.5000e-04\n",
            "Epoch 14: early stopping\n",
            "Restoring model weights from the end of the best epoch: 6.\n"
          ]
        }
      ]
    },
    {
      "cell_type": "markdown",
      "source": [
        "## Generate predictions, evaluate performance, and visualize results\n",
        "<font color=\"#12A80D\"> <b>• Constructs a full feature sequence set using the defined lookback period for every point in the dataset</br>• Feeds sequences to the trained model to obtain scaled predictions, then inversely transforms them to original price values using the <code>Close</code> scaler</br>• Computes the coefficient of determination (R²) between actual and predicted closing prices</br>• Plots actual vs. predicted closing prices over time to assess model tracking of trends</br>• Plots training and validation loss across epochs to visualize convergence and potential overfitting</b> </font>"
      ],
      "metadata": {
        "id": "du2n3T2uXArl"
      }
    },
    {
      "cell_type": "code",
      "source": [
        "# =====================================\n",
        "# PREDICTIONS AND RESULTS\n",
        "# =====================================\n",
        "\n",
        "# Prepare input sequences for prediction using the full dataset\n",
        "all_X = []\n",
        "for i in range(lookback, len(scaled_data)):\n",
        "    all_X.append(scaled_data[i - lookback:i])\n",
        "all_X = np.array(all_X)\n",
        "\n",
        "# Generate predictions (scaled)\n",
        "predictions_scaled = model.predict(all_X)\n",
        "\n",
        "# Inverse transform to get predictions back to original price scale\n",
        "predictions_inverse = scalers['Close'].inverse_transform(predictions_scaled)\n",
        "\n",
        "# Extract actual closing prices (aligned with predictions)\n",
        "actual_close = np.array(df['Close'].iloc[lookback:])\n",
        "dates = df['Date'].values[lookback:]\n",
        "\n",
        "# Calculate R² score for model performance\n",
        "r2 = r2_score(actual_close, predictions_inverse.flatten())\n",
        "print(f\"R2 Score: {r2:.4f}\")\n",
        "\n",
        "# Ensure dates array matches prediction range\n",
        "dates = df['Date'].to_numpy()[lookback:]\n",
        "\n",
        "# Plot actual vs predicted closing prices\n",
        "plt.figure(figsize=(14, 6))\n",
        "plt.plot(dates, actual_close, label='Actual Close Price', color='blue', linewidth=2)\n",
        "plt.plot(dates, predictions_inverse, label='BiD GRU Predicted Close Price', color='orange', alpha=0.5)\n",
        "plt.xlabel('Date')\n",
        "plt.ylabel('Price')\n",
        "plt.title('Nvidia Stock Price Prediction')\n",
        "plt.legend()\n",
        "plt.grid(True)\n",
        "plt.show()\n",
        "\n",
        "# Plot training and validation loss over epochs\n",
        "plt.figure(figsize=(10, 5))\n",
        "plt.plot(history.history['loss'], label='Training Loss')\n",
        "plt.plot(history.history['val_loss'], label='Validation Loss')\n",
        "plt.xlabel('Epoch')\n",
        "plt.ylabel('MAE Loss')\n",
        "plt.title('Training and Validation Loss')\n",
        "plt.legend()\n",
        "plt.grid(True)\n",
        "plt.show()"
      ],
      "metadata": {
        "colab": {
          "base_uri": "https://localhost:8080/",
          "height": 1000
        },
        "id": "m30e4hipodpx",
        "outputId": "ecf65de3-f3c3-46fc-b620-9033f8abf4dd"
      },
      "execution_count": null,
      "outputs": [
        {
          "output_type": "stream",
          "name": "stdout",
          "text": [
            "\u001b[1m202/202\u001b[0m \u001b[32m━━━━━━━━━━━━━━━━━━━━\u001b[0m\u001b[37m\u001b[0m \u001b[1m2s\u001b[0m 7ms/step\n",
            "R2 Score: 0.9824\n"
          ]
        },
        {
          "output_type": "display_data",
          "data": {
            "text/plain": [
              "<Figure size 1400x600 with 1 Axes>"
            ],
            "image/png": "[encoded data removed]"
          },
          "metadata": {}
        },
        {
          "output_type": "display_data",
          "data": {
            "text/plain": [
              "<Figure size 1000x500 with 1 Axes>"
            ],
            "image/png": "[encoded data removed]"
          },
          "metadata": {}
        }
      ]
    },
    {
      "cell_type": "markdown",
      "source": [
        "## Prompt to save predictions, graphs, and model weights\n",
        "<font color=\"#12A80D\"> <b>• Asks whether to save model outputs including predictions, plots, and weights</br>• If confirmed, saves a CSV of actual vs. predicted prices, a PNG prediction plot, and a PNG training/validation loss plot in the timestamped subfolder</br>• Optionally prompts to save the model weights in H5 format</br>• Organizes all results in the configured project directory for future reference</b> </font>"
      ],
      "metadata": {
        "id": "V2Tffj1GYAhl"
      }
    },
    {
      "cell_type": "code",
      "source": [
        "# =====================================\n",
        "# ASK TO SAVE RESULTS\n",
        "# =====================================\n",
        "\n",
        "# Prompt user to confirm saving predictions, plots, and weights\n",
        "save_choice = input(\"Do you want to save predictions, graphs, and weights? (yes/no): \").strip().lower()\n",
        "\n",
        "if save_choice == 'yes':\n",
        "    # Create DataFrame with dates, actual prices, and predicted prices\n",
        "    output_df = pd.DataFrame({\n",
        "        'Date': dates,\n",
        "        'Actual_Close': actual_close,\n",
        "        'Predicted_Close': predictions_inverse.flatten()\n",
        "    })\n",
        "\n",
        "    # Save predictions to CSV\n",
        "    csv_path = os.path.join(subfolder, f\"{graph_base_name}_{config_suffix}_predictions.csv\")\n",
        "    output_df.to_csv(csv_path, index=False)\n",
        "\n",
        "    # Save prediction plot\n",
        "    plt.figure(figsize=(14, 6))\n",
        "    plt.plot(dates, actual_close, label='Actual Close Price')\n",
        "    plt.plot(dates, predictions_inverse, label='BiD GRU Predicted Close Price')\n",
        "    plt.xlabel('Date')\n",
        "    plt.ylabel('Price')\n",
        "    plt.title('Nvidia Stock Price Prediction')\n",
        "    plt.legend()\n",
        "    plt.grid(True)\n",
        "    plt.tight_layout()\n",
        "    pred_plot_path = os.path.join(subfolder, f\"{graph_base_name}_{config_suffix}_prediction.png\")\n",
        "    plt.savefig(pred_plot_path)\n",
        "    plt.close()\n",
        "\n",
        "    # Save loss plot\n",
        "    plt.figure(figsize=(10, 5))\n",
        "    plt.plot(history.history['loss'], label='Training Loss')\n",
        "    plt.plot(history.history['val_loss'], label='Validation Loss')\n",
        "    plt.xlabel('Epoch')\n",
        "    plt.ylabel('MAE Loss')\n",
        "    plt.title('Training and Validation Loss')\n",
        "    plt.legend()\n",
        "    plt.grid(True)\n",
        "    plt.tight_layout()\n",
        "    loss_plot_path = os.path.join(subfolder, f\"{graph_base_name}_{config_suffix}_loss.png\")\n",
        "    plt.savefig(loss_plot_path)\n",
        "    plt.close()\n",
        "\n",
        "    # Ask user if they want to save model weights\n",
        "    save_weights_choice = input(\"Do you want to save the model weights now? (yes/no): \").strip().lower()\n",
        "    if save_weights_choice == 'yes':\n",
        "        weights_path = os.path.join(subfolder, f\"{graph_base_name}_{config_suffix}.weights.h5\")\n",
        "        model.save_weights(weights_path)\n",
        "        print(f\"Weights saved to: {weights_path}\")\n",
        "\n",
        "    print(f\"Outputs saved in: {subfolder}\")"
      ],
      "metadata": {
        "colab": {
          "base_uri": "https://localhost:8080/"
        },
        "id": "WgXO0hPBomC0",
        "outputId": "9eaa9a32-d44b-464f-84db-5dfe8466a882"
      },
      "execution_count": null,
      "outputs": [
        {
          "output_type": "stream",
          "name": "stdout",
          "text": [
            "Do you want to save predictions, graphs, and weights? (yes/no): yes\n",
            "Do you want to save the model weights now? (yes/no): yes\n",
            "Weights saved to: /content/drive/MyDrive/Nvidia_Stock_Market_History/Training/ensemble_inputs/30D/Nvidia_Stock_Training_30D_SA_2025-08-13_04-16-33/Nvidia_C1D64_BiG250_BiG250_BAtt_D1_Lookback30.weights.h5\n",
            "Outputs saved in: /content/drive/MyDrive/Nvidia_Stock_Market_History/Training/ensemble_inputs/30D/Nvidia_Stock_Training_30D_SA_2025-08-13_04-16-33\n"
          ]
        }
      ]
    }
  ]
}